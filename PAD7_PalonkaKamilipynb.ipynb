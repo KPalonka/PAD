{
  "nbformat": 4,
  "nbformat_minor": 0,
  "metadata": {
    "colab": {
      "provenance": []
    },
    "kernelspec": {
      "name": "python3",
      "display_name": "Python 3"
    },
    "language_info": {
      "name": "python"
    }
  },
  "cells": [
    {
      "cell_type": "markdown",
      "source": [
        "# Zadanie 1\n",
        "![image.png](data:image/png;base64,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)"
      ],
      "metadata": {
        "id": "6PURFSFbzS5x"
      }
    },
    {
      "cell_type": "code",
      "execution_count": 1,
      "metadata": {
        "id": "EA1YTAzsCCY_"
      },
      "outputs": [],
      "source": [
        "import pandas as pd\n",
        "import numpy as np\n",
        "import scipy as sc\n",
        "import statsmodels.api as sm\n",
        "from scipy.stats import ttest_ind\n",
        "import plotly.express as px\n",
        "import seaborn as sb"
      ]
    },
    {
      "cell_type": "code",
      "source": [
        "df = pd.read_csv('/content/drive/MyDrive/PAD/cwiczenie 7?/wyniki.csv')\n",
        "df"
      ],
      "metadata": {
        "id": "Tdj8LTJfCHqT",
        "colab": {
          "base_uri": "https://localhost:8080/",
          "height": 424
        },
        "outputId": "09eced06-1179-4849-dc88-efb1c55227dd"
      },
      "execution_count": 2,
      "outputs": [
        {
          "output_type": "execute_result",
          "data": {
            "text/plain": [
              "    plec  ocena_koncowa\n",
              "0      F              6\n",
              "1      F              6\n",
              "2      F             10\n",
              "3      F             15\n",
              "4      F             10\n",
              "..   ...            ...\n",
              "352    M              9\n",
              "353    M             16\n",
              "354    M              7\n",
              "355    M             10\n",
              "356    M              9\n",
              "\n",
              "[357 rows x 2 columns]"
            ],
            "text/html": [
              "\n",
              "  <div id=\"df-5f8a2aa0-ec91-4c52-a1b4-9b7ff47f541f\">\n",
              "    <div class=\"colab-df-container\">\n",
              "      <div>\n",
              "<style scoped>\n",
              "    .dataframe tbody tr th:only-of-type {\n",
              "        vertical-align: middle;\n",
              "    }\n",
              "\n",
              "    .dataframe tbody tr th {\n",
              "        vertical-align: top;\n",
              "    }\n",
              "\n",
              "    .dataframe thead th {\n",
              "        text-align: right;\n",
              "    }\n",
              "</style>\n",
              "<table border=\"1\" class=\"dataframe\">\n",
              "  <thead>\n",
              "    <tr style=\"text-align: right;\">\n",
              "      <th></th>\n",
              "      <th>plec</th>\n",
              "      <th>ocena_koncowa</th>\n",
              "    </tr>\n",
              "  </thead>\n",
              "  <tbody>\n",
              "    <tr>\n",
              "      <th>0</th>\n",
              "      <td>F</td>\n",
              "      <td>6</td>\n",
              "    </tr>\n",
              "    <tr>\n",
              "      <th>1</th>\n",
              "      <td>F</td>\n",
              "      <td>6</td>\n",
              "    </tr>\n",
              "    <tr>\n",
              "      <th>2</th>\n",
              "      <td>F</td>\n",
              "      <td>10</td>\n",
              "    </tr>\n",
              "    <tr>\n",
              "      <th>3</th>\n",
              "      <td>F</td>\n",
              "      <td>15</td>\n",
              "    </tr>\n",
              "    <tr>\n",
              "      <th>4</th>\n",
              "      <td>F</td>\n",
              "      <td>10</td>\n",
              "    </tr>\n",
              "    <tr>\n",
              "      <th>...</th>\n",
              "      <td>...</td>\n",
              "      <td>...</td>\n",
              "    </tr>\n",
              "    <tr>\n",
              "      <th>352</th>\n",
              "      <td>M</td>\n",
              "      <td>9</td>\n",
              "    </tr>\n",
              "    <tr>\n",
              "      <th>353</th>\n",
              "      <td>M</td>\n",
              "      <td>16</td>\n",
              "    </tr>\n",
              "    <tr>\n",
              "      <th>354</th>\n",
              "      <td>M</td>\n",
              "      <td>7</td>\n",
              "    </tr>\n",
              "    <tr>\n",
              "      <th>355</th>\n",
              "      <td>M</td>\n",
              "      <td>10</td>\n",
              "    </tr>\n",
              "    <tr>\n",
              "      <th>356</th>\n",
              "      <td>M</td>\n",
              "      <td>9</td>\n",
              "    </tr>\n",
              "  </tbody>\n",
              "</table>\n",
              "<p>357 rows × 2 columns</p>\n",
              "</div>\n",
              "      <button class=\"colab-df-convert\" onclick=\"convertToInteractive('df-5f8a2aa0-ec91-4c52-a1b4-9b7ff47f541f')\"\n",
              "              title=\"Convert this dataframe to an interactive table.\"\n",
              "              style=\"display:none;\">\n",
              "        \n",
              "  <svg xmlns=\"http://www.w3.org/2000/svg\" height=\"24px\"viewBox=\"0 0 24 24\"\n",
              "       width=\"24px\">\n",
              "    <path d=\"M0 0h24v24H0V0z\" fill=\"none\"/>\n",
              "    <path d=\"M18.56 5.44l.94 2.06.94-2.06 2.06-.94-2.06-.94-.94-2.06-.94 2.06-2.06.94zm-11 1L8.5 8.5l.94-2.06 2.06-.94-2.06-.94L8.5 2.5l-.94 2.06-2.06.94zm10 10l.94 2.06.94-2.06 2.06-.94-2.06-.94-.94-2.06-.94 2.06-2.06.94z\"/><path d=\"M17.41 7.96l-1.37-1.37c-.4-.4-.92-.59-1.43-.59-.52 0-1.04.2-1.43.59L10.3 9.45l-7.72 7.72c-.78.78-.78 2.05 0 2.83L4 21.41c.39.39.9.59 1.41.59.51 0 1.02-.2 1.41-.59l7.78-7.78 2.81-2.81c.8-.78.8-2.07 0-2.86zM5.41 20L4 18.59l7.72-7.72 1.47 1.35L5.41 20z\"/>\n",
              "  </svg>\n",
              "      </button>\n",
              "      \n",
              "  <style>\n",
              "    .colab-df-container {\n",
              "      display:flex;\n",
              "      flex-wrap:wrap;\n",
              "      gap: 12px;\n",
              "    }\n",
              "\n",
              "    .colab-df-convert {\n",
              "      background-color: #E8F0FE;\n",
              "      border: none;\n",
              "      border-radius: 50%;\n",
              "      cursor: pointer;\n",
              "      display: none;\n",
              "      fill: #1967D2;\n",
              "      height: 32px;\n",
              "      padding: 0 0 0 0;\n",
              "      width: 32px;\n",
              "    }\n",
              "\n",
              "    .colab-df-convert:hover {\n",
              "      background-color: #E2EBFA;\n",
              "      box-shadow: 0px 1px 2px rgba(60, 64, 67, 0.3), 0px 1px 3px 1px rgba(60, 64, 67, 0.15);\n",
              "      fill: #174EA6;\n",
              "    }\n",
              "\n",
              "    [theme=dark] .colab-df-convert {\n",
              "      background-color: #3B4455;\n",
              "      fill: #D2E3FC;\n",
              "    }\n",
              "\n",
              "    [theme=dark] .colab-df-convert:hover {\n",
              "      background-color: #434B5C;\n",
              "      box-shadow: 0px 1px 3px 1px rgba(0, 0, 0, 0.15);\n",
              "      filter: drop-shadow(0px 1px 2px rgba(0, 0, 0, 0.3));\n",
              "      fill: #FFFFFF;\n",
              "    }\n",
              "  </style>\n",
              "\n",
              "      <script>\n",
              "        const buttonEl =\n",
              "          document.querySelector('#df-5f8a2aa0-ec91-4c52-a1b4-9b7ff47f541f button.colab-df-convert');\n",
              "        buttonEl.style.display =\n",
              "          google.colab.kernel.accessAllowed ? 'block' : 'none';\n",
              "\n",
              "        async function convertToInteractive(key) {\n",
              "          const element = document.querySelector('#df-5f8a2aa0-ec91-4c52-a1b4-9b7ff47f541f');\n",
              "          const dataTable =\n",
              "            await google.colab.kernel.invokeFunction('convertToInteractive',\n",
              "                                                     [key], {});\n",
              "          if (!dataTable) return;\n",
              "\n",
              "          const docLinkHtml = 'Like what you see? Visit the ' +\n",
              "            '<a target=\"_blank\" href=https://colab.research.google.com/notebooks/data_table.ipynb>data table notebook</a>'\n",
              "            + ' to learn more about interactive tables.';\n",
              "          element.innerHTML = '';\n",
              "          dataTable['output_type'] = 'display_data';\n",
              "          await google.colab.output.renderOutput(dataTable, element);\n",
              "          const docLink = document.createElement('div');\n",
              "          docLink.innerHTML = docLinkHtml;\n",
              "          element.appendChild(docLink);\n",
              "        }\n",
              "      </script>\n",
              "    </div>\n",
              "  </div>\n",
              "  "
            ]
          },
          "metadata": {},
          "execution_count": 2
        }
      ]
    },
    {
      "cell_type": "code",
      "source": [
        "female = df['plec'] == 'F'\n",
        "male = df['plec'] == 'M'"
      ],
      "metadata": {
        "id": "yzBR6xYcFRUA"
      },
      "execution_count": 3,
      "outputs": []
    },
    {
      "cell_type": "code",
      "source": [
        "df[female]"
      ],
      "metadata": {
        "colab": {
          "base_uri": "https://localhost:8080/",
          "height": 424
        },
        "id": "XfO-Lqpdzhu3",
        "outputId": "e70b7b78-f71d-43c4-bb30-f126c425c440"
      },
      "execution_count": 4,
      "outputs": [
        {
          "output_type": "execute_result",
          "data": {
            "text/plain": [
              "    plec  ocena_koncowa\n",
              "0      F              6\n",
              "1      F              6\n",
              "2      F             10\n",
              "3      F             15\n",
              "4      F             10\n",
              "..   ...            ...\n",
              "343    F             15\n",
              "344    F             10\n",
              "349    F             10\n",
              "350    F              6\n",
              "351    F              8\n",
              "\n",
              "[185 rows x 2 columns]"
            ],
            "text/html": [
              "\n",
              "  <div id=\"df-5361427c-6c90-4b2f-849d-4b645d72ebd6\">\n",
              "    <div class=\"colab-df-container\">\n",
              "      <div>\n",
              "<style scoped>\n",
              "    .dataframe tbody tr th:only-of-type {\n",
              "        vertical-align: middle;\n",
              "    }\n",
              "\n",
              "    .dataframe tbody tr th {\n",
              "        vertical-align: top;\n",
              "    }\n",
              "\n",
              "    .dataframe thead th {\n",
              "        text-align: right;\n",
              "    }\n",
              "</style>\n",
              "<table border=\"1\" class=\"dataframe\">\n",
              "  <thead>\n",
              "    <tr style=\"text-align: right;\">\n",
              "      <th></th>\n",
              "      <th>plec</th>\n",
              "      <th>ocena_koncowa</th>\n",
              "    </tr>\n",
              "  </thead>\n",
              "  <tbody>\n",
              "    <tr>\n",
              "      <th>0</th>\n",
              "      <td>F</td>\n",
              "      <td>6</td>\n",
              "    </tr>\n",
              "    <tr>\n",
              "      <th>1</th>\n",
              "      <td>F</td>\n",
              "      <td>6</td>\n",
              "    </tr>\n",
              "    <tr>\n",
              "      <th>2</th>\n",
              "      <td>F</td>\n",
              "      <td>10</td>\n",
              "    </tr>\n",
              "    <tr>\n",
              "      <th>3</th>\n",
              "      <td>F</td>\n",
              "      <td>15</td>\n",
              "    </tr>\n",
              "    <tr>\n",
              "      <th>4</th>\n",
              "      <td>F</td>\n",
              "      <td>10</td>\n",
              "    </tr>\n",
              "    <tr>\n",
              "      <th>...</th>\n",
              "      <td>...</td>\n",
              "      <td>...</td>\n",
              "    </tr>\n",
              "    <tr>\n",
              "      <th>343</th>\n",
              "      <td>F</td>\n",
              "      <td>15</td>\n",
              "    </tr>\n",
              "    <tr>\n",
              "      <th>344</th>\n",
              "      <td>F</td>\n",
              "      <td>10</td>\n",
              "    </tr>\n",
              "    <tr>\n",
              "      <th>349</th>\n",
              "      <td>F</td>\n",
              "      <td>10</td>\n",
              "    </tr>\n",
              "    <tr>\n",
              "      <th>350</th>\n",
              "      <td>F</td>\n",
              "      <td>6</td>\n",
              "    </tr>\n",
              "    <tr>\n",
              "      <th>351</th>\n",
              "      <td>F</td>\n",
              "      <td>8</td>\n",
              "    </tr>\n",
              "  </tbody>\n",
              "</table>\n",
              "<p>185 rows × 2 columns</p>\n",
              "</div>\n",
              "      <button class=\"colab-df-convert\" onclick=\"convertToInteractive('df-5361427c-6c90-4b2f-849d-4b645d72ebd6')\"\n",
              "              title=\"Convert this dataframe to an interactive table.\"\n",
              "              style=\"display:none;\">\n",
              "        \n",
              "  <svg xmlns=\"http://www.w3.org/2000/svg\" height=\"24px\"viewBox=\"0 0 24 24\"\n",
              "       width=\"24px\">\n",
              "    <path d=\"M0 0h24v24H0V0z\" fill=\"none\"/>\n",
              "    <path d=\"M18.56 5.44l.94 2.06.94-2.06 2.06-.94-2.06-.94-.94-2.06-.94 2.06-2.06.94zm-11 1L8.5 8.5l.94-2.06 2.06-.94-2.06-.94L8.5 2.5l-.94 2.06-2.06.94zm10 10l.94 2.06.94-2.06 2.06-.94-2.06-.94-.94-2.06-.94 2.06-2.06.94z\"/><path d=\"M17.41 7.96l-1.37-1.37c-.4-.4-.92-.59-1.43-.59-.52 0-1.04.2-1.43.59L10.3 9.45l-7.72 7.72c-.78.78-.78 2.05 0 2.83L4 21.41c.39.39.9.59 1.41.59.51 0 1.02-.2 1.41-.59l7.78-7.78 2.81-2.81c.8-.78.8-2.07 0-2.86zM5.41 20L4 18.59l7.72-7.72 1.47 1.35L5.41 20z\"/>\n",
              "  </svg>\n",
              "      </button>\n",
              "      \n",
              "  <style>\n",
              "    .colab-df-container {\n",
              "      display:flex;\n",
              "      flex-wrap:wrap;\n",
              "      gap: 12px;\n",
              "    }\n",
              "\n",
              "    .colab-df-convert {\n",
              "      background-color: #E8F0FE;\n",
              "      border: none;\n",
              "      border-radius: 50%;\n",
              "      cursor: pointer;\n",
              "      display: none;\n",
              "      fill: #1967D2;\n",
              "      height: 32px;\n",
              "      padding: 0 0 0 0;\n",
              "      width: 32px;\n",
              "    }\n",
              "\n",
              "    .colab-df-convert:hover {\n",
              "      background-color: #E2EBFA;\n",
              "      box-shadow: 0px 1px 2px rgba(60, 64, 67, 0.3), 0px 1px 3px 1px rgba(60, 64, 67, 0.15);\n",
              "      fill: #174EA6;\n",
              "    }\n",
              "\n",
              "    [theme=dark] .colab-df-convert {\n",
              "      background-color: #3B4455;\n",
              "      fill: #D2E3FC;\n",
              "    }\n",
              "\n",
              "    [theme=dark] .colab-df-convert:hover {\n",
              "      background-color: #434B5C;\n",
              "      box-shadow: 0px 1px 3px 1px rgba(0, 0, 0, 0.15);\n",
              "      filter: drop-shadow(0px 1px 2px rgba(0, 0, 0, 0.3));\n",
              "      fill: #FFFFFF;\n",
              "    }\n",
              "  </style>\n",
              "\n",
              "      <script>\n",
              "        const buttonEl =\n",
              "          document.querySelector('#df-5361427c-6c90-4b2f-849d-4b645d72ebd6 button.colab-df-convert');\n",
              "        buttonEl.style.display =\n",
              "          google.colab.kernel.accessAllowed ? 'block' : 'none';\n",
              "\n",
              "        async function convertToInteractive(key) {\n",
              "          const element = document.querySelector('#df-5361427c-6c90-4b2f-849d-4b645d72ebd6');\n",
              "          const dataTable =\n",
              "            await google.colab.kernel.invokeFunction('convertToInteractive',\n",
              "                                                     [key], {});\n",
              "          if (!dataTable) return;\n",
              "\n",
              "          const docLinkHtml = 'Like what you see? Visit the ' +\n",
              "            '<a target=\"_blank\" href=https://colab.research.google.com/notebooks/data_table.ipynb>data table notebook</a>'\n",
              "            + ' to learn more about interactive tables.';\n",
              "          element.innerHTML = '';\n",
              "          dataTable['output_type'] = 'display_data';\n",
              "          await google.colab.output.renderOutput(dataTable, element);\n",
              "          const docLink = document.createElement('div');\n",
              "          docLink.innerHTML = docLinkHtml;\n",
              "          element.appendChild(docLink);\n",
              "        }\n",
              "      </script>\n",
              "    </div>\n",
              "  </div>\n",
              "  "
            ]
          },
          "metadata": {},
          "execution_count": 4
        }
      ]
    },
    {
      "cell_type": "code",
      "source": [
        "ttest = ttest_ind(df[male]['ocena_koncowa'], df[female]['ocena_koncowa'])"
      ],
      "metadata": {
        "id": "AxBORMelEKzp"
      },
      "execution_count": 5,
      "outputs": []
    },
    {
      "cell_type": "code",
      "source": [
        "ttest"
      ],
      "metadata": {
        "colab": {
          "base_uri": "https://localhost:8080/"
        },
        "id": "06olgnkdFCkS",
        "outputId": "80f37b5b-fe58-4a28-c509-3bbdfb67e720"
      },
      "execution_count": 6,
      "outputs": [
        {
          "output_type": "execute_result",
          "data": {
            "text/plain": [
              "Ttest_indResult(statistic=1.9404771273257526, pvalue=0.053113174845791505)"
            ]
          },
          "metadata": {},
          "execution_count": 6
        }
      ]
    },
    {
      "cell_type": "markdown",
      "source": [
        "**Zakładamy poziom istotności na poziomie 0.05, więc p-value jest większa niż zakładany próg istotności, więc nie mam podstaw aby odrzucić hipotezę zerową.**"
      ],
      "metadata": {
        "id": "6i4UiuUYuQxJ"
      }
    },
    {
      "cell_type": "markdown",
      "source": [
        "Próba policzenia t-statystki \"ręcznie\""
      ],
      "metadata": {
        "id": "tk-NQlsSuO4x"
      }
    },
    {
      "cell_type": "code",
      "source": [
        "# std_men = np.std(df[men]['ocena_koncowa'])\n",
        "# std_female = np.std(df[female]['ocena_koncowa'])\n",
        "# mean_men = np.mean(df[men]['ocena_koncowa'])\n",
        "# mean_female = np.mean(df[female]['ocena_koncowa'])\n",
        "# n_men = df[men].size\n",
        "# n_female = df[men].size"
      ],
      "metadata": {
        "id": "8TbhzTe76XCg"
      },
      "execution_count": null,
      "outputs": []
    },
    {
      "cell_type": "code",
      "source": [
        "# print(n_men)\n",
        "# print(n_female)"
      ],
      "metadata": {
        "id": "kPNsl447BAHn"
      },
      "execution_count": null,
      "outputs": []
    },
    {
      "cell_type": "code",
      "source": [
        "# t_stats = (mean_men - mean_female) / (np.sqrt((np.square(std_men)/n_men) + (np.square(std_female)/n_female)))\n",
        "# t_stats"
      ],
      "metadata": {
        "id": "Gyfe7LIV-D3X"
      },
      "execution_count": null,
      "outputs": []
    },
    {
      "cell_type": "markdown",
      "source": [
        "# Zadanie 2"
      ],
      "metadata": {
        "id": "IWNfdkxdtmO_"
      }
    },
    {
      "cell_type": "markdown",
      "source": [
        "![image.png](data:image/png;base64,iVBORw0KGgoAAAANSUhEUgAAAvAAAACkCAYAAADxJhqyAAAAAXNSR0IArs4c6QAAAARnQU1BAACxjwv8YQUAAAAJcEhZcwAAEnQAABJ0Ad5mH3gAADCwSURBVHhe7Z1BqBVJe7/v918lEIJMNmYzyAQ0uAgqRIiLZCIIk1kEsxNBomRjksXwCRFDIINZBDHg4Ca4STQI4i6SxUQQzCQLAy7UlcQsBjObTBYZXASS3ffnac/P77W+7nP6nHvu9bQ+DxR9Tnd11Vtvvd39q+o69/5o//79P9kSEREREZFJ8P9mWxERERERmQAKeBERERGRCaGAFxERERGZEAp4EREREZEJoYAXEREREZkQCngRERERkQmhgN8h7t69u/Xs2bOtixcvzvZsJr/8y7/c2fmv//qv3WcRERER2WzemYD/5ptvOuF46tSp2Z73h8OHD2/96q/+avf59u3b3XYnOXHiROdL0rL853/+59a//du/bf38z//81pkzZ2Z7RURERGRTGRTwf/EXf/FGFLaJ2drtsmfPntmn9RPb//Ef/3G2Z3WYQaectJ3P58+fnx3t5/d+7/e6LcIYgRxWKWsMv/RLvzT7tBpPnjzptr/927/dbUVERERkc1lpBp7Z2g8BBgKnT59+a2kJnxHdzLIP8Wu/9mvd9t///d+7Laxa1jrJsh5sqTx48KDbYk+1T0REREQ2j0EB/+d//udbhw4depN+53d+Z+t///d/u2OIwE0mtmPzdviFX/iFrUePHm2dO3euK6+2e95yk3379nXb58+fd1tYtax18nM/93PdFlsqT58+fdO3v/Vbv9VtRURERGQzGT0D/9VXX3Uz769evdr60z/909nera1bt269Wc9O4vO1a9dmR1/DGu179+51x1l+0x4Pi8rKWm9mklmOkrxs61KULKGhzgpl5RzsoL55M84XLlzY+qM/+qNO4ML9+/e77TzqbPo///M/zz6tVhZgJ6n14V//9V/PcvRD2+Ir4HMGFsePH+++V9/+13/9V7c9evRotxURERGRzWSUgEcc50eZN27ceLOumx+gMptc17PzGYGYv76CQP6zP/uzN+KRQQDHW8aUlbXe2MJylORlW5eitDPMgOClrJyDHdT3t3/7t933Mfzmb/7m7NPwj1MPHDgw+/T6B6JDjCkLsJPEoKT68NixY4MDIfbTNmbV/+Zv/ma292f5n//5n9knEREREZkKCwU8ovj3f//3u88sAcmMLvD5H/7hH7b+5E/+pBOMpIjWvXv3dluWh0Q0X7lypctz586d7ntlTFkVZpBZIkP+UMVzhUEEghdiA0tZeJvAMWa3F0GelIEfMpO+CquU9R//8R+dzbT55cuX3b4jR4502woDGQYqiHeWEmV9O23OeQ8fPuy+c1xEREREpsVCAf/ll192M76IaZaAtDCL+8d//MedoCa1S1IivhGPEf9Xr17tti2LyqqcPXu2swmBGmF68ODBbttS13VfunSpK/vmzZtvBha/8iu/0m2HQHDnh5+c2+eHsaxaFstnEPq0OctvYn8lf5aTZTYR7yIiIiLy/jBXwNdlG33LNVjawlKW5NkO6yirb+nMGJiJHyKCm0EMgpuBw6qsq6xf/MVfnH36Wf7lX/6l2/7Gb/zGrv11GxERERHZPQYFPOIPwQksueibzc3sOn/vnCUZLO/Ispfw/fffd1uEecrLDHRlTFmr8uLFi9mnny6hqakuC6qsIrhrXfUNwnbF+8mTJ7s+ocz8vfY+/7AshjcS1POXf/mXs71vk79Go8AXERERmR6DAp6164hAYE01orMmBGl+BMmPStnHPyZql73wA838icK/+qu/6vL97u/+7pt9YUxZq8LSkyyzyRKamob4gz/4gzc+QOjXc1ii0kddz16X7qxSVgW/sOyn+uWf/umfum3L5cuXO/+Sr745yZsG1t9Tb/3zlXnz8fjx424rIiIiIpvJoIBf9BdK+IswzPbyI8yIcWaE+V5hH/kyW0xeZvRb0TqmrP/+7/+efeonNvfZ/od/+Iddve1ymXYgUfm///u/2aflyGCh/knGVcsK/MA35dIGvue3BK1fGET83d/9XfeZwVcE//Xr19+UQbvzj6byZgTqn74UERERkc3jR/v37//J7LOsCZbK8JYBsczSl+3ATDmw9Gdoqc92ib0Mmrb7z69EREREZGdZ+FdoZHn+/u//vtuyLGVdy4B2kl//9V/vtkNLckRERERkc1DA7wAsYcnMeV1nvgrzlvisAwYYJOrh9woiIiIistm4hEZEREREZEI4Ay8iIiIiMiEU8CIiIiIiE0IBLyIiIiIyIRTwIiIiIiITQgEvIiIiIjIhFPAiIiIiIhNCAS8iIiIiMiEU8CIiIiIiE0IBLyIiIiIyIRTwIiIiIiITQgEvIiIiIjIhFPAiIiIiIhNCAS8iIiIiMiEU8CIiIiIiE0IBLyIiIiIyIRTwIiIiIiITQgEvIiIiIjIhFPAiIiIiIhNCAS8iIiIiMiEU8CIiIiIiE0IBLyIiIiIyIRTwA1y8eHHr2bNnW6dOnZrt2Uxu3bq19c0338y+bRbYhX2bCn1b+/jw4cPd92vXrnXf4d69e12aGoviYpX4xg+bGmvymjam3wdyXRKzyzDVa3cM3KPwCb6B9Ps8H7X+WPV65pxN8iv3Oto+xCq+6aOvnDHPuPaa7HvO7AaLbF01Ht438mzMtTWWMbGwbuYK+NwkKgnG3TZU5H0hN4i+9C5voH32kDYJ/NPno1bQfKicP3++88Pdu3dne0RE5H1k6Rn4S5cubb18+XLr7Nmzsz2by6ozN3D16tWtQ4cO+SD8gHj69GnX5xcuXJjt2RkSWzWdO3euO/bkyZNuu9MMxffDhw9/xrZw8uTJrU8//XT27d1w48aNrT179rw1e8V1fvz48c52+nDTaWfk1kXuc1O4N8v24B7FtZl45zrmO9f1WFa9njmHczcF4r3ep1pW8U0f6ypnO8+ZnZzl3e79fTu27WS73meWEvA4+dWrVxt18Yq8D3z55ZfdtbXTg4epw0MU8Ytgz2z7F1980W0/dN8hLN71AEtERHaH0QKe0REzX0MPCMQ9D9akdn1Xlg1k9imf8+q7JsqCoTVZ7Witnpt62d68ebP7fPr06e5YXePWLmNo17/1zZL12dqSWf+keevqWp+RWr+11LxDI9bWzjYfx6m79gWptpXjfbaTr9rY1tX3tqPm6evPCnlq+dBnC22aVxbHsKW1bxF99VdSXtrZZ0df7MyDsvbt29fNLkNiqLWjLTffk+bVl3hPmW1ZY2jbSlnxc2yIqOYz++m3HEscss2+2q8pp7UpPg+ZYWbQQ15ms+7cudPtWwT2pu5aJlRbq118b/sifYTNfbT3geSj7bzFBLYcY99QeTlewbZqH6SepLacob6qfZHUll3hGOekT0iJiVo2qY/W/61foZZNOnDgwOzI27T5Wj8tIvbmWsjnQFuzn9T6tO3jpPgv5dbyaxmL7B+KIYjt5IGh+JkH9aXvoJaZOvvKpH1tjNQ2JsU26DsnsVdp2wWL/JTjQyzjm9SfVO2YV05r4yLIwzmV+COp+iv+RYNxv0ueCvmzn7SovakvMd/GQx+1jtg3xrbsS4pfF53LZ9pR603/V39VX4X0V01pa6WWPa/9NR9pkX/TtqRad46lLasySsATaDg3r/lbMITZQ/IkHzNkfcbx0Eo+ZtPyKjDnQZYRPHr0qOvYtuHsu3//fvc9D4SU8cknn3QdR7kpj4c7x/LmAMcfO3bszTkkBFR7QVUokzbVc1hKVAOHPAwa6jIE/DLU0QyGko9z4Pbt2922D9pKnTkHsg204aOPPnqTBx+wbW3Ah6yXTT58GGEB9AE+yYUGKSM2Uhc+SR0kBksV9mVLot55QYsdR44cmX177VN8iC0Vvi9aboIt1Rf4btENah5pL/G03deolQwwuR6AV6zYWv0An332WecL8uEX+iuxTaI/+6DfqIMYW/csNf35+eefv7GhLmGhTq5h9l+5cqXb0k7gM3FTr7v4lHZW8EPOC7Sbc/EBvhrTH/R9vU9RRn0Y0JYc+/bbb9/EexuTcOLEiW47VG97H8BHwOADX0B8wr70OfelwL2OfX2xj1+BOMA+UuqiXHzf3s/6+irLD3IepOwhyFuvK8ql/lo2fm4fquSp/qf/2+cEPmdffEOeel8KnEOfpKykefeWIdpnErSxEp/W+2jfvZ42tm+oKT/3yMTLGPuHYminod7USf20uz4HWvBJey/iPMrJs5uYIm5rOXwnvuvz/eDBg92+3EfW2c+LwJ6qC+hL2rAI8m73OcO1kvOTuK5SDnHJvsRY8oQx8VrBf8mXmF8E5/TdIxfZxr6qEfj+1VdfdccWnQvLPkeAmGqvH+KTOK0+oU2cmzxff/11V1/Lsv5d5vm8HUYJeG6oGF8fziFOqzct8sVxLTR8iHYZQd8DvYqYPrCjz84K5bY3WS46LsIhKLNtDwFMQAde5Vf7gQfkInFBZ+NjfDZkewYutd2UnUAO1M3+QHnYtHfv3tmen1LfpmRAlJtpRPqZM2e6LXBzqzfXPptbH2Ff9QffuWCGeP78edfO3OgRSvi53ujji8ePH3ffh6Cu6gt8x3kpZxm4UCMsFvXnMuRBVO0Eblitrfh23qCl7+0Y53Oj4UYyRrzTRvyW1IqwPn784x/PPr0NsRFf4XvisPYJcUO/MugOHK8xlL5OfAbKpTwYuhdU6D/KuXz58mzP6zJavwd8Fdupu+0LrgVsHcuYpS3Eeb02jh49+pZQhzwwHjx40G1zz2njHNvaQQcM9RXwgKE/FsU3eWp91IUNtY2ZAAhjnxO5x6RPycMDuoIvOCdvrMLQM2cR7TMpsdL6FLuwDxILuU9C2+bAtVfvkavaPyaG1kH1d9qXAWsfDCyIgRo3XD/ERJ7dideUgw84TswT54H2sw/W3c+LoH9rfF6/fr3bDom0QNvbWGnvF/MgH3HTxmF+77OonDHxWuFaxH/0c66zVaj3yHlQV43/POPHsspzBJ+xrz7zKKP1CbZRfiAP12tlWf8OUa9fzqfuWuYqjBLwdDQN6HuYI3pxaMv333/fbfPgCS9evJh9ehucRBC3FysdVS9W8lQRw4iJ4+RbdKFVCGLOSaLcRUFFUNRzEDv1HD73+WIRY9Y/5yY35oJDFFY7sWve4ATSLx9//HG3zUVRRQA+agVF+nksP/zww1w/50LNjZ4ZGYR6vdGzxV/L3nzaNo6FdkcEL1vnPIgnYre9YUD8kAdgbuJ5oNI/9C12sW2vM8DPzALUG+Ai8nBMage6fdSb83aJUM+1PNTXXL+53sbMbGQAO2QrD2vKw5cZVAXqpp4qNIiJdlBRwY8ZDC16AIf0bfLzQEL4cB3W64HvaUd80DJ0nQ21P/6sA5x1MvY5gV8j4IbIkhpiG/8m4e9VaJ9JiZVaNgnbQuKxTnBwr6RvWr777rvZp9eMtX+VGFo3iZe+CaBA3BBvLfR3YpBy8A3xC5mY4d4e4dXe49bdz8sypu19LPucSb42DseWMyZeA/d0/MdgYeheMMS8e+Q8uLarXZnh7ntmrQvs7Lvf1JhMvC2aCFzGvwHfpq1sd6qtowQ8xiAyMDgzKesmDW0f1PWBjsNxfi5wQJgQlNzsxjqL4COIGZhEqPTdeCvU374Soc7tMjRwWZW+V3F9gTyGOgscQTVWCG4H+jAjW+wnJrjIMpjghr9o+cw6ITZyMa7zQbpoxpM6aT8g5Mlbb7qM3jnOfl4Xtq9t6feIgPTfphOxnP6nz9u+5vqmTbQts1TbvS/hV3zJg40tvq8+w4bEH/uxsb1XVRiMp5wIkEVgA31JX9NG2sU+ZqziD+4VGUSvi+rPGl+bTvqqTeuir+x2QIvf6FsSMbHMjNoi+1eJoU2GuE37iGfu6VxDxDQxyAC5vcfBTvfz+0Kfj9p4JYbwMfG0SCe1LLpH9sHzsm8pyxSJ/TXNm+Ba9HxeB6N/xIrIiBioImZopiejljEPhKFlBMAFjgO44PtETMjNDjIrMlQ39hJ8Y2wLtIcb9DwBy/E+X8xjaODSMvRGo62P7/TTOqCttAm/4//6AInvlp2dGAOChZs6cUb9gH9oG+3n2KJRcx+Z0WlnxMZAbObGV1n0RmGIMTOe9RUusT0k3LiJcFOlvHaAwXVBvxFny96w3xW8VaOPaTdtul0G7FDfWBEXtI/70rz2DV0/LZSXm25EM2BD4o9ZxLEDSOImSxLysGtn2irMStJ2ZigT+8zCR+RgQ5YjwNA9Z2jGu4/d+AtIY58T2NG+LWx/xLrsDOeyjImVDOKIlaQxb6tgWfv7YmiT6OszoL9rDCZuuUcRz/ED1xrxzsRMffuy0/28iPT/sm+Zl33OJF8b533lVH+Gsfe2QJxSTtahL8vQPbLPtvTdontL37nbgfL67jc1Jofiq9U0y/q3Zd7zebuMFvBAJ7QiJg/X+koFIzOjswjyEgzzRmUIFy548lURg0PrqCbOaS+4vLYLdCBlBcQU5c+DMmsHpI2VrJWts4H4ZeimO2/g0pKBAw/bwPmt3bStLnshT18gjwWhgq+op10y0CecqshflbQVHxNvgc8RG4sGPIDdNS6Z8R57bh95QNeYy0AifYzNrchvwV+5PuYNIjlGmxHfUAeP1FfbluUduSlViC/aPeYHWZtA2km7aX/1Ee0mFhH5IddPe20Qi4nNvuun+pA+rXFMHfgspC+YHCCu2kFFhRioyw2z/KV9oNclOSEDBR6METPUjS3Y3vqj755Du7Cx+miI+HNdbwCHGPucyP2GY0CftNdTvS5qn7XXxKokVlqBQ9nUAfQlfifGahpT/xj7x8bQJtD2GdAO/JNJCEi7yUc8J46Jc+KdOKzX1U73cwv1V5/nXlHvu31s9zlDPvK3SwGJe9rfloOdlTHx2sJvYeifvmXRQyy6R0JrW+I1dnB+nmct7bnbIZqxtj86L/6s8RXI3+q6VfzL/hoT7fOZa2Ds/WIeSwl4aEUMTiCASbmJEXgI8jEzOlnjixNzPqkGSr2A6mfq5uZR6+VhUPNkyQvH46wImpzHyJ/tPCgzdWTbDlAIDEZaBEDK5iKp9lSwC5KXNO+CYhaGAExeZrVaG+if+mABgnRVckPtuyHhR+pAGKa+db0ew2baymx8yOzk2NnPtD+2wXZ/CJbfgySW8Al9kPglLjJbNkTeENU4qamSAWu7n5iq/UxZxF4eii1p9zI37HdJ2tu+dcDPxEZ7TdEHxEYVES1cb/X6oayIfwRsjWPqyLGALfiZY0N+BmKi3l+oh+uiPjiwN/1fxTfHOBc761umXA+tPyiTeKuxRH3EwtB9p4JwgtzXktYN7RrznOBzjrGlT3KfrHCfy/GUR1vaPluVvnsz99v4NA9ifJ92JdX+HGKR/YtiaJOgz7CtxlB80V4nuYcTz4E4z742/073c4VrEvtSDzbRhkXkmZfzYNnnDPlrfydFbwXe2Oa+XyeSYmc9t8ZrC37mHkEbx8QrLLpH9tlGvNbnI+fHX5Whdq0K7aZ9qZfEPZLrtV5D+Lf6ndjivJZl/cv+ZZ7Pq/Kj/fv3/2T2eaOhU9uA2UkQAtyQcPrQTXO3bXpXEIBchGMGZJvC+9I3Y+LwfYSHCje9MQ9Qkd0mA+FWYLEfQbDT9x1m+BAnCJJ1i4Kp4b1CPlSWnoF/F3CzYjQz768+rJu88hgSTRm1vu/iPe28PWfJgOwced38IYl3yIyyyCbCNcnsZYVrlX31reFOwbJQbPjQxTvwBp3JGpEPjUkIeF5r7JaIYelOXnkw6zxE1sSTd+wrqCmSP43mg2L3IRYRBGOXDL0vZF3hbg7YRZaBiRvui9z/k/KmbOi1+jpgkEBdzDaP+Y3D+wz3CXzBPfJDm+AQgcksoRERERERkYnMwIuIiIiIyGsU8CIiIiIiE0IBLyIiIiIyIRTwIiIiIiITQgEvIiIiIjIhFPAiIiIiIhNCAS8iIiIiMiEU8CIiIiIiE0IBLyIiIiIyIRTwIiIiIiITQgEvIiIiIjIhFPAiIiIiIhNCAS8iIiIiMiEU8CIiIiIiE0IBLyIiIiIyIRTwIiIiIiITQgEvIiIiIjIhFPAiIiIiIhNCAS8iIiIiMiEU8CIiIiIiE0IBLyIiIiIyIRTwIiIiIiITQgH/jjh16tTWs2fPti5evDjbsxrffPPN1r1792bftkdsYrubXLt2rav3fYR20b53DXbcunVr9u39Y5GfuUa4Vt5X1nU/ERGRaaCAn8GDjwdgn3jlwd/38D98+PDKD808cK9evTrbIyIiIiKyGAX8jAcPHnTbo0ePdtuA0N6zZ0+XEOyVEydOdNucOxYEP+WdPXt2tmd1Pv30062TJ0/Ovo1jOwMPmSaHDh1aS7xNFa4RrpX3lbt373Z97ISAiMiHgQJ+xtOnT7devXq19cknn8z2vAZBz344c+ZMtw0HDx7sjnHuMvCQfZ/FhIiIiIjsHBsr4FmzyiwxabfWrj558mRr3759s2+vQdC/fPmyS624Jy/nwNASnHZ9d74nBdrbrmVnzXLNA6knbwP6zsvynKTqP+q/efNm9/n06dPd8fb8IVaxkbr7yuf40Jrl2J8123ljUNtVz2192q71zvlJ8948cCz+quf02drWOyZO8QV503/AebWcGkPxZZsC57btjV2VNl/rE1KfX2JvEufl3NYn6Z9qf6h9VxNlxd7qE8De6lO+57xFvm793JZVSXva9rOv9S3l9sVzhXpiJym0viQt6pOWWka1Y6gN1WekvjgWEZHpsZECngdTFdIsN1n0wF4Hjx8/7rZVgGDH8+fPt7799tu3bCIPduWcvLr+7LPPum04cuRI9+AEHq7Hjx/fOnfuXPe6+8qVK28e4I8ePerKryKG7wwcqj3M+rNvaNafOi5duvSmDhJvCeK/CxcudMfgzp073fGxS3BWsTGDonpORMbt27e7bYVysB+ftUs+2I/PsJl2AP7Dx2lrUhVGDFgePnz45tjnn38+O9IP/Ur9tZ/otyqOKL/2JQk/p6/7SFxzTvqPfrlx48abMrCTdgbiKsdIMK+OsXz55Zdv+p/EZwZ0tZ+wF18kD37gPGynf/F7hdjHByznaMkSjyTyJUYSB+0bLvJlgIzwrOd//fXXg2K0z8/zSHuOHTs22/M6DtlHORW+cx0MQX/SttiJXxOLXGd1P9y/f7/b4nfiNMdJ1F9FOuXU/uCe1Ar2Stt/+IOYVcSLiEyfjRPwPMjahybwIKoicSdAZPDwjQhPfaxxj8jIvqyVr2IFYcWDMpAXu/OQbuHciNSso8+6evyALTyk67r8PLiHQJwiAqtwoZ51+G8VG/vEGUIp4q1CeYhX7O9br83+6m/yUxcCuBKxPsSY5UtV/FFnFXipFxFW23D58uVu2yeqEF/ENefVc7CltikDQupoiRBcx1p2xGRdL52+PXDgQLclVrC3+hY7M9hDxLYxRdsiuOeBgOTc+At/4N86IJg3yANszyCuMuTnRRCv9b5DPEeopy9i09BvXjhe2wXY2ddfefuVvsfWNmaxifKGoP21Dyvpv2oLdVBnO/ASEZHp4Rr4hjrrxkM8QpNUxT3LadqZ0Aj1POg5n3PykOZhy3dm2to3CpRPXcxeAyKZBziCLkt3IpaGRA3wwGeWDduS6ozudljFxpxTRQP+7ZvFxC/Y2yfM4Pvvv599ek3EZmbsk2h/BUEfn1TBuQz0W8RU6v3uu++6baCtsHfv3m4bqBtxxqCgj2p7+ip1BOymjMzcrgNiMPVmWdXHH3/81vbFixfdtiXCsR3szotNQAzjj3aQ2Q4I2jdNiQlsrbPSlUV+nkfsTv3EM0IdGzJgXfT2K/0+dDwMDcSoO/1Boj1VwF+/fr37zrGUMUT6L9dUUjtIEBGRabJxAp6HHw/JliqEdxKWy/CQRGjwEM9MMmBXxD1b8lawDzuPzWZqEa3tjCQzrjxE+x7EiJg8YCkDYUyZ1IU9dUAxj8xAt2kd/lvFxirOMrjpmzlEnFL2sq/4s6ymTQHxx3f8HbG/m9AfGbhV8FcVViTa0sf58+c7vw7NuC4LdWJT6l1F9MZuQMiPiU2W4FBvO0hrBwSU2w7yYiexRt1tnAz5eQy571A//UK8so9rPNcz9bY2LQvXAO1oB2JcF8RmrgES7algD/sT7/gg19MQ+CvlJfkDehGR6bORM/C8pudhGngo79ZDJ0KCWTce2FnSABH380Qoa3M5jzzkzcxeCw/SCO2QV/M85Ckjs5/4AnvaAUUf+Oqjjz6afetnkciaxyo24ifsQhwhhhAefZAPnzDzSPmLSN2ZbVwEM54RqouETwt9SRtgqF6EH7RvCiDxW2ePM8vOzOo82iUnFWzi2DLEznkDurxdaN8EVGI3viSOF4lb8hEz7ZKnkOth3vUVEUsM9S0F6fPzWIhb7COO09fEO/si6oeWz0D6Pf7tY2ggxuw9dfa1uYV+wweUk8FFy5j+ExGR6bKxS2jqD752e8aIByNrVKGKnDxcOUaePto8VSwz216FI2I3QgHIyzmIV/bnXIQFD2qExNCAIDDjX0UQICjaJTuQpTDLsKqNsYvjQ78JAGZmKZ/ZyHlCCGJL++NL2p43G9hZxVyWQ7TLX1qYxU2ZEZ4RqLXeyldffTVXhDFzSjmxLQOB+vuALKEJ2NC35CREdMZWxD7555FyMtsN2F4h7mkLgjO0vmz9sEh8kg/hPTRwSNwkX4V666CONtdrp9L6eSzUj0gnjjMIpY3Uw5sD2trXByHtJ2+osThvIIb451jayLbtR67hGufzfJD+a+MJG+qbC/w6NKAWEZHNxTXwPUSo8cBuyb484PvIA7GdkWQGOOKExAO4HZxEkNW6eQuQffMEBCCAeQ1f60GMtvXkVT3HlxU6q9gYcYaoGBJwgcEb+VpR2Qd508a0FwGW9cURMjmGX2j7IhsQgSkz51SBmnprop55g03qjN8RdviJ7wi1lMH3SsR9zUOK0MuAJ7YyKGzL6KMuwyD1/fg0bUkexGArPhPjHJ9HBpS1TlL2A/5ITLWDPOql/pwH9EEfrZ/HQv30IXFc37xhE/sWvWEA6iRv7CR2Eot5Y1BjNQNrYovvaSPbth95c1HPxa52HX2F/iNP8pN4O9cuXxIRkenxo/379/9k9lnWRGZBeZjLT0FAMJO8yQICwYfoYqnNosHSlEAozhN8q8YsAwnEJgOCRYOiMTCYRADPGwiJiIh86DgDvwNktlR+Sl7bZyZedg+WXbA8o/3RdcgyHUT4siDgx7xVGQN2MIAY86coRUREPmQU8Gsmr+znrfP+EGH5ADPA79Os9hRgjTPLLhDZQ2vU0yfMpPf9VmIIBDez5esS3Fku5CBPRERkPi6hERERERGZEM7Ai4iIiIhMCAW8iIiIiMiEUMCLiIiIiEwIBbyIiIiIyIRQwIuIiIiITAgFvIiIiIjIhFDAi4iIiIhMCAW8iIiIiMiEUMCLiIiIiEwIBbyIiIiIyIRQwG8o9+7d69JOce3ata1nz55tHT58eLZnczl16lRnK1tZjW+++Wbr1q1bs2/ToL0GiFXioKadit8xMcfx6tOcU5OIiMhOoIDv4eLFiz/zIJ6C0BXpg8Hanj17ts6ePTvbM02++OKLrStXrmwdOnSoS1yXN2/eXHhtZrC60yDgz50798a+ly9f7kq9IiLy4aGAb2DG7/Tp0289iPk8RihMiQsXLnRte/r06WyPvK8cP368E77zyOw2g9dNhQHI3bt3Z99ef4czZ850292G66cOik6ePPnW9XT58uVuu8k+FRGRaaKAL/Cg3bdvXyd26oOYz4pdmSrEbhW+7xOvXr3a+uijj2bfNovcL/bu3dttRURE1sXGCnhmwpkRJLF+dzf4/PPPu9fe88RO3/IaErAeNp8r7Vrelsx+JvHKv4+UvyhfaMutM4FpR/tWoebvO17J0oSa2r7iez3et6a49jVp3lrtWl6bb157oV2j3Noan9R8fCZfWxc2t+f3LdVo+6yNA/a1/Ui5bT7KqfUtagu0/hiKQernDRPw9qnmTT21vurXtn1tWyiHPG2stLS2tuUMwdKgH374YfZtPG19pEWQp/qZz21cVHLtfP/9991WRERkXWykgOehz0x44CHdJ1DWDfUwozePq1evdjOaSZCH//3797ttFTg8xGnLo0ePZnt+FsQTZaTMTz755K32A0IBoZI8vCVgaQTCagjKffjw4ZtzGKAMEUFz586dN/k5d97SoSzDIbHMCJ48edJtgT67cePGW+VdunRpdvQ15MHvyZPUJzY5N+VliVMVevPaS59wfl0aRV/3xRX5kofBHG3icwWbofqGfqtCkDaknKQ2lsl/5MiR2bfX5WFX2/98j2/p8/Pnz79VLlQxSTmtPyi3HdQA/Zj+S/+zHKRSfcc1ALSv9h3HiclWfHOMWfLkw462f8dcAy1p7+3bt7vtWOKb1EVi4N4XcwHbsPvTTz+d7VnMl19+2W3jLxERkXWxcQKeh2vfgxuhME+sbpcIsWVm8yIgsg4WscdD/tixY913yPrcoYd4BNX169e7LSCeEBQV6kBohbwl+Pjjj7vtGOaJD34gSJ3VztQ3Zo0xYoW2Vxupr77NePz4cbeNr2k7/frjH/+4+x4QkcRA8gUGLSmP5Qmt+G2p7UXMI2brMijK6ourdr147E4+tviKdOLEiW5f4vb58+fdd/LwvS2LAUitk/x8T1sp79tvv+3KrvWRJ3Zgd9uX5CdPoD/b/iCGVhWT9En1XdqXdd4w1CfYVteKMxCp1/jYayAwAIrYb5e7jYH8nFvB59V/FerDlrHiHdtItDEDIxERkXXiGvgVQcAgAhA2lYiTCLJ2Vrbl4MGDndAaI0KYIYw4SJnz1tciWJkRJW/E4BCIF+yu5aeORSDAOBdx2lLLyuz7gQMHum1sb9v+3XffddvkG4LBVhVd89pLvhxr7Wl58eLF7NNrEMz00dGjR7vvbBHeJPoPIuQjkDOwasvK9xxP/pxPeQh1BGWtj/rrYAif17YQi9UXfOacdZE+CbE/M+fVjkVkSUmukWWuASBv3ixUnywD8VHtJjaq/0JipH0jMQ/sy5uMZQcXIiIiY9g4Ac8Dr2/mrRUw64Z6qQPBPQaWMGBnO6OZ1/nMWmdWNktrtkPfUpNFMPtKPgQKQoTtPGhPLT+pzuL2kXXTtX9oe8RRymlno9fNovbW5SQ1jYkrBmaZWWb74MGDLnE+IELb+sbCeXlrE3sQ8amPmMzyGWCJCj7Hn2nDqnVvl7okKWnsTPW7gsEP8RGRTSI2+iAP19285TUiIiK7zUbOwLevzxHWuyEKqLPOng+BgOKhXpcPBAYCiCnEFyJ+0cCjnUUO7T6+f/3117Nvy8HyhbzKz3KFFuzss2MR7TKikNnzuiyipZ2JDUOz1y2sq8bulr72km87f60EQY1/mLllSz9n0Mc+4ibLZ2DoLUK+1xltzuN8ykl7iBnqySAwy2eAdhCr8+Jq2f6kLcsw9i3JGMZeA4H7w6JB5Tx484N/xiwnop0MlOiDsT+s5V616lIlERGRMWzsEhoe0rs9o4fw48HOsoBWVCLK2UfidTszdkOihxl3xAf56sxpH5mxrz9AzI8DK9hV19YvmhFEDNY8WaLRLoUIsbnaAcz8t74I1EH/tMuIIOK7rp9vl6xE5OTHfkBdmdFv/cv51AmpO/5d1F7ykb8OYKir/qB0Hohl+oB66uCSz+zDd1W0JT9vaiq0oRXfOa+v7Py2oOZH8NaBJm2ibZX0ZxWd9O3QAC5kSdAi0r62T6lvrNANY6+BQGyM7TfgDUb1KwNHysbfwJZrdQjamuVZi/xHn2DfoutTRERkO7gGvoHBAg/gdm0vM7oIyghSHub1eMQARNxAxMkQlJmlECmLv1jDtsIPPRFtycMa6dTRR2xIfkQxQrsKwQr7sxwi55AQPkMDlc8++6zbRnAnIWI4h/qqn/qEPvUhppIHvyOW2hl9IC+CkXxsyZeZ2EXtJR/fq63UtczgEF/QB/g+ZPac8loou9qU1LeeOmXXWXzqYV87CKQt5E+M5ge6FdpNXFX/t4OMFvyT/m8Hcn3QPuxI+STeDiw7Oz72GliGCGkSPqxvy/AB+2ss9cVmhTaRl/jJwElERORd8aP9+/f/ZPZZ1khm4Jb58dsmwUwjYgVRJSIiIiKbgzPwOwCz8cz6zfvb75tOZrBFREREZLNQwO8AWVoyb7nCpsPSiCw3qcuDREREROTd4hIaEREREZEJ4Qy8iIiIiMiEUMCLiIiIiEwIBbyIiIiIyIRQwIuIiIiITAgFvIiIiIjIhFDAi4iIiIhMCAW8iIiIiMiEUMCLiIiIiEwIBbyIiIiIyIRQwL8jTp06tfXs2bOtixcvzvasxjfffLN179692bftEZvYvis2wYapce3atc5nhw8fnu2ZDqv2NzG/rrgXERGZGgr4GQjpISGBSCa1IJg4ZxURHuFy9erV2R4RERERkcUo4Gc8ePCg2x49erTbBoT2nj17utTOcJ44caLb5tyxIPgp7+zZs7M9q/Ppp59unTx5cvZtHNsZeMjmceHCha1Dhw5tPX36dLZHRERE3mcU8DMQP69evdr65JNPZnteg6BnP5w5c6bbhoMHD3bHlhVOzLojvEVERERElmVjBTzrW5klJvUtX9kJnjx5srVv377Zt9cg6F++fNmlVtyTl3NgaAlO1ieHfE8KfWt6b9269VYeSD15G9B3XpbnJFX/Uf/Nmze7z6dPn+6Ot+fPg7KwYagdlXqc1DfjnzYm9TGvLr5zvEKZtc1544Bf2J9ych7tzz7ObWn9SapvY/r6YEzfQbWH1MYP+ziv2tjW1VcuLCq7hfz4pPZJ6qp9UH1byfGkVfsb2nxtH7f09cGQX0RERKbORgp4HsRVSLPcZEg0rJPHjx932yp0sOP58+db33777Vs2kQe7ck7Wsn/22WfdNhw5cuSNUEFQHD9+fOvcuXPdkocrV668EYyPHj3qyq9ig+8MHKo9zPqzb2jWnzouXbr0pg4SbwniP5ZbcAzu3LnTHV92CQ7C/6OPPnpTPvbU/qENEV7JQ1s5rwoxPnOs+gPbK/N8tiyUfePGja4c2k652Ejfpmy2VXjGn/EV6eHDh90gKP2yat/hs9iTctv2A36jDvLgB8peJGhpF4PLlI39lF3t6QOf/PDDD2/VRVkMXlMWcV/7YJ39DVz/1JGyyI9di9osIiLyobBxAh4xgGho4YG+SHxsl7t373ZiNyI89bHG/fbt293n7Mtaec4JETCBvNh9//792Z634dysg886+qyrxw/Ygris6/Ipn31DfP75550QrAKfetbpP9pZ1++35X/xxRed7W0ezmNAEzK4ia3kQdTNo/psWRCxnA8ZcOErBjXAMexGaAf8iY31x8bkr3Gyat+xjCr2QAaDdSAA2Jj68RWDgPZtUAWhS/1pF3B+tXkI2przUhepDvLIU6/RdfY3MUTZly9fnu15bUdbloiIyIeMa+AbECsRJ4ivzJiSqgBCQCEqKhHqmcHN+vkqGvnO7G37RiFiKeIRMYjYQ9RFrEUgZzDRB0I6M8tJfbOc6+TFixfd9uOPP+622EA7W5jZ5RggUvnM2415zPPZboCN2N2CTWnLdvqur58OHDjQbYeodffB2xGO17JJ887ZDpS7rv5ODNHf1fY6MBYREfnQ2TgBHzHUgkCos5U7BQIDoYHgQHzVGdMq7tm2YgT7sPPYsWPdd2YMs0Y+MOuKGKEOhEldipBlEkAZCEDKpC7sqQOKeTBjSzlt2g3/7QTzfLYpLNt37KvilLTo7cMyEIcpt6ZV317sNllmU5M//BYREXnNRs7A87q+injEyG49vLNUgVlUxFeWNUDEfWbYk7fy9ddfd+eRh7xDs+UIkgjtkKUYWUaQmW18gT3tgKIPfMUM7DwWDQCWJTPG3333XbfFBtregl0cg9iwd+/ebhsyA9tHn8/GtHc7DJVP+9IWWLbv4rPr169323VSZ753g3X2d2Jo0VuIliEbRERE3kc2dgkNIh6hRtrtmTdEFz/AgzprHcHOsTrAqLR5qlhm5rj+QBJRV0UgeTkHEcj+nIvwY1YXYTg0IAj54WKth9nevuUnda33MlB+nQU/f/58Z298xVIixFT90SH2cB4DnMDsM8t9sA9od/weFvkMf1FuIH/9vl3izyyBAeqgfVV8L9t3Efj1T5Oua6lT6mn/KgvfazvWxTr7mxjCf60vKHvej1gzuE77qL8tG7Ch9YuIiMjUcA18DyyHgD6Rnn3zZsIRCZByAssXEBUcJyHq2sEJ5bK/1s1bgOyrA4I++AEiP9as9bCeuK0nf1WF41WMj4Fzss3nWj4iLH85JHmwhyUi9a0F/qBNWe/MQIDzKot8xnEEX44Ds/TrIv5EUKYO/EZq+2KZvuMz5VYf8X0dUDb2UW/KJhGPdUC6LtbZ30D/ki9lkZjNrz/KbaEe8qWf+PHxOpckiYiIbBI/2r9//09mn2VNMFOImEFEvW8wk4+4QoyJiIiIyO7jDPwOkJlIEREREZF1o4BfM1mvPfS330VEREREtoNLaEREREREJoQz8CIiIiIiE0IBLyIiIiIyIRTwIiIiIiITQgEvIiIiIjIhFPAiIiIiIhNCAS8iIiIiMiEU8CIiIiIiE0IBLyIiIiIyIRTwIiIiIiITQgEvIiIiIjIhFPAiIiIiIhNCAS8iIiIiMiEU8CIiIiIiE0IBLyIiIiIyGba2/j9XLyYl0vKzewAAAABJRU5ErkJggg==)"
      ],
      "metadata": {
        "id": "f9cRZx0qtqzD"
      }
    },
    {
      "cell_type": "code",
      "source": [
        "df = pd.read_csv('/content/drive/MyDrive/PAD/cwiczenie 7?/ZyskiFirmyX.csv')"
      ],
      "metadata": {
        "id": "1nkRotE5F4cA"
      },
      "execution_count": 17,
      "outputs": []
    },
    {
      "cell_type": "code",
      "source": [
        "df.head()"
      ],
      "metadata": {
        "id": "0X7sM25rFMuJ",
        "colab": {
          "base_uri": "https://localhost:8080/",
          "height": 206
        },
        "outputId": "7da88184-3f25-4f47-e539-48b2678ecf8e"
      },
      "execution_count": 18,
      "outputs": [
        {
          "output_type": "execute_result",
          "data": {
            "text/plain": [
              "    Rok  Zysk\n",
              "0  1821  1645\n",
              "1  1822   658\n",
              "2  1823  1926\n",
              "3  1824   865\n",
              "4  1825   764"
            ],
            "text/html": [
              "\n",
              "  <div id=\"df-b1d49f3c-5fad-47ae-b157-8742859bef95\">\n",
              "    <div class=\"colab-df-container\">\n",
              "      <div>\n",
              "<style scoped>\n",
              "    .dataframe tbody tr th:only-of-type {\n",
              "        vertical-align: middle;\n",
              "    }\n",
              "\n",
              "    .dataframe tbody tr th {\n",
              "        vertical-align: top;\n",
              "    }\n",
              "\n",
              "    .dataframe thead th {\n",
              "        text-align: right;\n",
              "    }\n",
              "</style>\n",
              "<table border=\"1\" class=\"dataframe\">\n",
              "  <thead>\n",
              "    <tr style=\"text-align: right;\">\n",
              "      <th></th>\n",
              "      <th>Rok</th>\n",
              "      <th>Zysk</th>\n",
              "    </tr>\n",
              "  </thead>\n",
              "  <tbody>\n",
              "    <tr>\n",
              "      <th>0</th>\n",
              "      <td>1821</td>\n",
              "      <td>1645</td>\n",
              "    </tr>\n",
              "    <tr>\n",
              "      <th>1</th>\n",
              "      <td>1822</td>\n",
              "      <td>658</td>\n",
              "    </tr>\n",
              "    <tr>\n",
              "      <th>2</th>\n",
              "      <td>1823</td>\n",
              "      <td>1926</td>\n",
              "    </tr>\n",
              "    <tr>\n",
              "      <th>3</th>\n",
              "      <td>1824</td>\n",
              "      <td>865</td>\n",
              "    </tr>\n",
              "    <tr>\n",
              "      <th>4</th>\n",
              "      <td>1825</td>\n",
              "      <td>764</td>\n",
              "    </tr>\n",
              "  </tbody>\n",
              "</table>\n",
              "</div>\n",
              "      <button class=\"colab-df-convert\" onclick=\"convertToInteractive('df-b1d49f3c-5fad-47ae-b157-8742859bef95')\"\n",
              "              title=\"Convert this dataframe to an interactive table.\"\n",
              "              style=\"display:none;\">\n",
              "        \n",
              "  <svg xmlns=\"http://www.w3.org/2000/svg\" height=\"24px\"viewBox=\"0 0 24 24\"\n",
              "       width=\"24px\">\n",
              "    <path d=\"M0 0h24v24H0V0z\" fill=\"none\"/>\n",
              "    <path d=\"M18.56 5.44l.94 2.06.94-2.06 2.06-.94-2.06-.94-.94-2.06-.94 2.06-2.06.94zm-11 1L8.5 8.5l.94-2.06 2.06-.94-2.06-.94L8.5 2.5l-.94 2.06-2.06.94zm10 10l.94 2.06.94-2.06 2.06-.94-2.06-.94-.94-2.06-.94 2.06-2.06.94z\"/><path d=\"M17.41 7.96l-1.37-1.37c-.4-.4-.92-.59-1.43-.59-.52 0-1.04.2-1.43.59L10.3 9.45l-7.72 7.72c-.78.78-.78 2.05 0 2.83L4 21.41c.39.39.9.59 1.41.59.51 0 1.02-.2 1.41-.59l7.78-7.78 2.81-2.81c.8-.78.8-2.07 0-2.86zM5.41 20L4 18.59l7.72-7.72 1.47 1.35L5.41 20z\"/>\n",
              "  </svg>\n",
              "      </button>\n",
              "      \n",
              "  <style>\n",
              "    .colab-df-container {\n",
              "      display:flex;\n",
              "      flex-wrap:wrap;\n",
              "      gap: 12px;\n",
              "    }\n",
              "\n",
              "    .colab-df-convert {\n",
              "      background-color: #E8F0FE;\n",
              "      border: none;\n",
              "      border-radius: 50%;\n",
              "      cursor: pointer;\n",
              "      display: none;\n",
              "      fill: #1967D2;\n",
              "      height: 32px;\n",
              "      padding: 0 0 0 0;\n",
              "      width: 32px;\n",
              "    }\n",
              "\n",
              "    .colab-df-convert:hover {\n",
              "      background-color: #E2EBFA;\n",
              "      box-shadow: 0px 1px 2px rgba(60, 64, 67, 0.3), 0px 1px 3px 1px rgba(60, 64, 67, 0.15);\n",
              "      fill: #174EA6;\n",
              "    }\n",
              "\n",
              "    [theme=dark] .colab-df-convert {\n",
              "      background-color: #3B4455;\n",
              "      fill: #D2E3FC;\n",
              "    }\n",
              "\n",
              "    [theme=dark] .colab-df-convert:hover {\n",
              "      background-color: #434B5C;\n",
              "      box-shadow: 0px 1px 3px 1px rgba(0, 0, 0, 0.15);\n",
              "      filter: drop-shadow(0px 1px 2px rgba(0, 0, 0, 0.3));\n",
              "      fill: #FFFFFF;\n",
              "    }\n",
              "  </style>\n",
              "\n",
              "      <script>\n",
              "        const buttonEl =\n",
              "          document.querySelector('#df-b1d49f3c-5fad-47ae-b157-8742859bef95 button.colab-df-convert');\n",
              "        buttonEl.style.display =\n",
              "          google.colab.kernel.accessAllowed ? 'block' : 'none';\n",
              "\n",
              "        async function convertToInteractive(key) {\n",
              "          const element = document.querySelector('#df-b1d49f3c-5fad-47ae-b157-8742859bef95');\n",
              "          const dataTable =\n",
              "            await google.colab.kernel.invokeFunction('convertToInteractive',\n",
              "                                                     [key], {});\n",
              "          if (!dataTable) return;\n",
              "\n",
              "          const docLinkHtml = 'Like what you see? Visit the ' +\n",
              "            '<a target=\"_blank\" href=https://colab.research.google.com/notebooks/data_table.ipynb>data table notebook</a>'\n",
              "            + ' to learn more about interactive tables.';\n",
              "          element.innerHTML = '';\n",
              "          dataTable['output_type'] = 'display_data';\n",
              "          await google.colab.output.renderOutput(dataTable, element);\n",
              "          const docLink = document.createElement('div');\n",
              "          docLink.innerHTML = docLinkHtml;\n",
              "          element.appendChild(docLink);\n",
              "        }\n",
              "      </script>\n",
              "    </div>\n",
              "  </div>\n",
              "  "
            ]
          },
          "metadata": {},
          "execution_count": 18
        }
      ]
    },
    {
      "cell_type": "code",
      "source": [
        "fig = px.line(df, x='Rok', y='Zysk')\n",
        "fig.update_layout(title=\"Zysk w każdym roku\", xaxis_title=\"Rok\",\n",
        "    yaxis_title=\"Zyski (tys.)\")\n",
        "fig.show()"
      ],
      "metadata": {
        "colab": {
          "base_uri": "https://localhost:8080/",
          "height": 542
        },
        "id": "RotJ931nz7JS",
        "outputId": "d26622ba-42b3-4f23-a5aa-3ad87a7395d9"
      },
      "execution_count": 20,
      "outputs": [
        {
          "output_type": "display_data",
          "data": {
            "text/html": [
              "<html>\n",
              "<head><meta charset=\"utf-8\" /></head>\n",
              "<body>\n",
              "    <div>            <script src=\"https://cdnjs.cloudflare.com/ajax/libs/mathjax/2.7.5/MathJax.js?config=TeX-AMS-MML_SVG\"></script><script type=\"text/javascript\">if (window.MathJax) {MathJax.Hub.Config({SVG: {font: \"STIX-Web\"}});}</script>                <script type=\"text/javascript\">window.PlotlyConfig = {MathJaxConfig: 'local'};</script>\n",
              "        <script src=\"https://cdn.plot.ly/plotly-2.8.3.min.js\"></script>                <div id=\"10869df9-334b-436b-8295-50c7f8ef1619\" class=\"plotly-graph-div\" style=\"height:525px; width:100%;\"></div>            <script type=\"text/javascript\">                                    window.PLOTLYENV=window.PLOTLYENV || {};                                    if (document.getElementById(\"10869df9-334b-436b-8295-50c7f8ef1619\")) {                    Plotly.newPlot(                        \"10869df9-334b-436b-8295-50c7f8ef1619\",                        [{\"hovertemplate\":\"Rok=%{x}<br>Zysk=%{y}<extra></extra>\",\"legendgroup\":\"\",\"line\":{\"color\":\"#636efa\",\"dash\":\"solid\"},\"marker\":{\"symbol\":\"circle\"},\"mode\":\"lines\",\"name\":\"\",\"orientation\":\"v\",\"showlegend\":false,\"x\":[1821,1822,1823,1824,1825,1826,1827,1828,1829,1830,1831,1832,1833,1834,1835,1836,1837,1838,1839,1840,1841,1842,1843,1844,1845,1846,1847,1848,1849,1850,1851,1852,1853,1854,1855,1856,1857,1858,1859,1860,1861,1862,1863,1864,1865,1866,1867,1868,1869,1870,1871,1872,1873,1874,1875,1876,1877,1878,1879,1880,1881,1882,1883,1884,1885,1886,1887,1888,1889,1890,1891,1892,1893,1894,1895,1896,1897,1898,1899,1900,1901,1902,1903,1904,1905,1906,1907,1908,1909,1910,1911,1912,1913,1914,1915,1916,1917,1918,1919,1920,1921,1922,1923,1924,1925,1926,1927,1928,1929,1930,1931,1932,1933,1934,1935,1936,1937,1938,1939,1940,1941,1942,1943,1944,1945,1946,1947,1948,1949,1950,1951,1952,1953,1954,1955,1956,1957,1958,1959,1960,1961,1962,1963,1964,1965,1966,1967,1968,1969,1970,1971,1972,1973,1974,1975,1976,1977,1978,1979,1980,1981,1982,1983,1984,1985,1986,1987,1988,1989,1990,1991,1992,1993,1994,1995,1996,1997,1998,1999,2000,2001,2002,2003,2004,2005,2006,2007,2008,2009,2010,2011,2012,2013,2014,2015,2016,2017,2018,2019,2020],\"xaxis\":\"x\",\"y\":[1645,658,1926,865,764,916,1082,994,1282,806,594,225,838,1928,1627,1487,385,600,101,626,434,1121,1424,1455,740,1001,1020,1042,905,154,1277,1277,1346,994,1405,206,1902,911,1641,1088,1227,266,2055,1308,1929,1031,408,1898,952,1155,1438,466,1494,579,1139,84,1277,1216,1973,459,779,793,672,992,784,732,1116,1866,1790,1020,997,1082,831,1209,282,1111,1459,652,391,1860,1188,1228,410,1013,1028,671,895,1315,1029,1062,236,859,1400,941,972,886,1037,819,1247,522,1573,2027,1069,1051,872,-244,450,1710,1537,249,855,870,453,655,914,1703,691,571,1324,61,911,1646,944,1664,978,1044,807,1639,1148,243,1785,1363,1192,150,810,1247,1104,1903,1724,541,640,1479,1165,1320,1134,752,49,1253,1771,701,913,1386,612,1343,1138,1082,1003,2045,1318,1001,689,914,980,682,1171,1568,1096,-413,1996,769,476,910,796,1107,1608,1275,26,1633,1310,1013,1319,545,1735,1237,1642,1407,854,478,1044,1038,1050,1327,1053,1302,636,988,895,-178,543,316],\"yaxis\":\"y\",\"type\":\"scatter\"}],                        {\"template\":{\"data\":{\"bar\":[{\"error_x\":{\"color\":\"#2a3f5f\"},\"error_y\":{\"color\":\"#2a3f5f\"},\"marker\":{\"line\":{\"color\":\"#E5ECF6\",\"width\":0.5},\"pattern\":{\"fillmode\":\"overlay\",\"size\":10,\"solidity\":0.2}},\"type\":\"bar\"}],\"barpolar\":[{\"marker\":{\"line\":{\"color\":\"#E5ECF6\",\"width\":0.5},\"pattern\":{\"fillmode\":\"overlay\",\"size\":10,\"solidity\":0.2}},\"type\":\"barpolar\"}],\"carpet\":[{\"aaxis\":{\"endlinecolor\":\"#2a3f5f\",\"gridcolor\":\"white\",\"linecolor\":\"white\",\"minorgridcolor\":\"white\",\"startlinecolor\":\"#2a3f5f\"},\"baxis\":{\"endlinecolor\":\"#2a3f5f\",\"gridcolor\":\"white\",\"linecolor\":\"white\",\"minorgridcolor\":\"white\",\"startlinecolor\":\"#2a3f5f\"},\"type\":\"carpet\"}],\"choropleth\":[{\"colorbar\":{\"outlinewidth\":0,\"ticks\":\"\"},\"type\":\"choropleth\"}],\"contour\":[{\"colorbar\":{\"outlinewidth\":0,\"ticks\":\"\"},\"colorscale\":[[0.0,\"#0d0887\"],[0.1111111111111111,\"#46039f\"],[0.2222222222222222,\"#7201a8\"],[0.3333333333333333,\"#9c179e\"],[0.4444444444444444,\"#bd3786\"],[0.5555555555555556,\"#d8576b\"],[0.6666666666666666,\"#ed7953\"],[0.7777777777777778,\"#fb9f3a\"],[0.8888888888888888,\"#fdca26\"],[1.0,\"#f0f921\"]],\"type\":\"contour\"}],\"contourcarpet\":[{\"colorbar\":{\"outlinewidth\":0,\"ticks\":\"\"},\"type\":\"contourcarpet\"}],\"heatmap\":[{\"colorbar\":{\"outlinewidth\":0,\"ticks\":\"\"},\"colorscale\":[[0.0,\"#0d0887\"],[0.1111111111111111,\"#46039f\"],[0.2222222222222222,\"#7201a8\"],[0.3333333333333333,\"#9c179e\"],[0.4444444444444444,\"#bd3786\"],[0.5555555555555556,\"#d8576b\"],[0.6666666666666666,\"#ed7953\"],[0.7777777777777778,\"#fb9f3a\"],[0.8888888888888888,\"#fdca26\"],[1.0,\"#f0f921\"]],\"type\":\"heatmap\"}],\"heatmapgl\":[{\"colorbar\":{\"outlinewidth\":0,\"ticks\":\"\"},\"colorscale\":[[0.0,\"#0d0887\"],[0.1111111111111111,\"#46039f\"],[0.2222222222222222,\"#7201a8\"],[0.3333333333333333,\"#9c179e\"],[0.4444444444444444,\"#bd3786\"],[0.5555555555555556,\"#d8576b\"],[0.6666666666666666,\"#ed7953\"],[0.7777777777777778,\"#fb9f3a\"],[0.8888888888888888,\"#fdca26\"],[1.0,\"#f0f921\"]],\"type\":\"heatmapgl\"}],\"histogram\":[{\"marker\":{\"pattern\":{\"fillmode\":\"overlay\",\"size\":10,\"solidity\":0.2}},\"type\":\"histogram\"}],\"histogram2d\":[{\"colorbar\":{\"outlinewidth\":0,\"ticks\":\"\"},\"colorscale\":[[0.0,\"#0d0887\"],[0.1111111111111111,\"#46039f\"],[0.2222222222222222,\"#7201a8\"],[0.3333333333333333,\"#9c179e\"],[0.4444444444444444,\"#bd3786\"],[0.5555555555555556,\"#d8576b\"],[0.6666666666666666,\"#ed7953\"],[0.7777777777777778,\"#fb9f3a\"],[0.8888888888888888,\"#fdca26\"],[1.0,\"#f0f921\"]],\"type\":\"histogram2d\"}],\"histogram2dcontour\":[{\"colorbar\":{\"outlinewidth\":0,\"ticks\":\"\"},\"colorscale\":[[0.0,\"#0d0887\"],[0.1111111111111111,\"#46039f\"],[0.2222222222222222,\"#7201a8\"],[0.3333333333333333,\"#9c179e\"],[0.4444444444444444,\"#bd3786\"],[0.5555555555555556,\"#d8576b\"],[0.6666666666666666,\"#ed7953\"],[0.7777777777777778,\"#fb9f3a\"],[0.8888888888888888,\"#fdca26\"],[1.0,\"#f0f921\"]],\"type\":\"histogram2dcontour\"}],\"mesh3d\":[{\"colorbar\":{\"outlinewidth\":0,\"ticks\":\"\"},\"type\":\"mesh3d\"}],\"parcoords\":[{\"line\":{\"colorbar\":{\"outlinewidth\":0,\"ticks\":\"\"}},\"type\":\"parcoords\"}],\"pie\":[{\"automargin\":true,\"type\":\"pie\"}],\"scatter\":[{\"marker\":{\"colorbar\":{\"outlinewidth\":0,\"ticks\":\"\"}},\"type\":\"scatter\"}],\"scatter3d\":[{\"line\":{\"colorbar\":{\"outlinewidth\":0,\"ticks\":\"\"}},\"marker\":{\"colorbar\":{\"outlinewidth\":0,\"ticks\":\"\"}},\"type\":\"scatter3d\"}],\"scattercarpet\":[{\"marker\":{\"colorbar\":{\"outlinewidth\":0,\"ticks\":\"\"}},\"type\":\"scattercarpet\"}],\"scattergeo\":[{\"marker\":{\"colorbar\":{\"outlinewidth\":0,\"ticks\":\"\"}},\"type\":\"scattergeo\"}],\"scattergl\":[{\"marker\":{\"colorbar\":{\"outlinewidth\":0,\"ticks\":\"\"}},\"type\":\"scattergl\"}],\"scattermapbox\":[{\"marker\":{\"colorbar\":{\"outlinewidth\":0,\"ticks\":\"\"}},\"type\":\"scattermapbox\"}],\"scatterpolar\":[{\"marker\":{\"colorbar\":{\"outlinewidth\":0,\"ticks\":\"\"}},\"type\":\"scatterpolar\"}],\"scatterpolargl\":[{\"marker\":{\"colorbar\":{\"outlinewidth\":0,\"ticks\":\"\"}},\"type\":\"scatterpolargl\"}],\"scatterternary\":[{\"marker\":{\"colorbar\":{\"outlinewidth\":0,\"ticks\":\"\"}},\"type\":\"scatterternary\"}],\"surface\":[{\"colorbar\":{\"outlinewidth\":0,\"ticks\":\"\"},\"colorscale\":[[0.0,\"#0d0887\"],[0.1111111111111111,\"#46039f\"],[0.2222222222222222,\"#7201a8\"],[0.3333333333333333,\"#9c179e\"],[0.4444444444444444,\"#bd3786\"],[0.5555555555555556,\"#d8576b\"],[0.6666666666666666,\"#ed7953\"],[0.7777777777777778,\"#fb9f3a\"],[0.8888888888888888,\"#fdca26\"],[1.0,\"#f0f921\"]],\"type\":\"surface\"}],\"table\":[{\"cells\":{\"fill\":{\"color\":\"#EBF0F8\"},\"line\":{\"color\":\"white\"}},\"header\":{\"fill\":{\"color\":\"#C8D4E3\"},\"line\":{\"color\":\"white\"}},\"type\":\"table\"}]},\"layout\":{\"annotationdefaults\":{\"arrowcolor\":\"#2a3f5f\",\"arrowhead\":0,\"arrowwidth\":1},\"autotypenumbers\":\"strict\",\"coloraxis\":{\"colorbar\":{\"outlinewidth\":0,\"ticks\":\"\"}},\"colorscale\":{\"diverging\":[[0,\"#8e0152\"],[0.1,\"#c51b7d\"],[0.2,\"#de77ae\"],[0.3,\"#f1b6da\"],[0.4,\"#fde0ef\"],[0.5,\"#f7f7f7\"],[0.6,\"#e6f5d0\"],[0.7,\"#b8e186\"],[0.8,\"#7fbc41\"],[0.9,\"#4d9221\"],[1,\"#276419\"]],\"sequential\":[[0.0,\"#0d0887\"],[0.1111111111111111,\"#46039f\"],[0.2222222222222222,\"#7201a8\"],[0.3333333333333333,\"#9c179e\"],[0.4444444444444444,\"#bd3786\"],[0.5555555555555556,\"#d8576b\"],[0.6666666666666666,\"#ed7953\"],[0.7777777777777778,\"#fb9f3a\"],[0.8888888888888888,\"#fdca26\"],[1.0,\"#f0f921\"]],\"sequentialminus\":[[0.0,\"#0d0887\"],[0.1111111111111111,\"#46039f\"],[0.2222222222222222,\"#7201a8\"],[0.3333333333333333,\"#9c179e\"],[0.4444444444444444,\"#bd3786\"],[0.5555555555555556,\"#d8576b\"],[0.6666666666666666,\"#ed7953\"],[0.7777777777777778,\"#fb9f3a\"],[0.8888888888888888,\"#fdca26\"],[1.0,\"#f0f921\"]]},\"colorway\":[\"#636efa\",\"#EF553B\",\"#00cc96\",\"#ab63fa\",\"#FFA15A\",\"#19d3f3\",\"#FF6692\",\"#B6E880\",\"#FF97FF\",\"#FECB52\"],\"font\":{\"color\":\"#2a3f5f\"},\"geo\":{\"bgcolor\":\"white\",\"lakecolor\":\"white\",\"landcolor\":\"#E5ECF6\",\"showlakes\":true,\"showland\":true,\"subunitcolor\":\"white\"},\"hoverlabel\":{\"align\":\"left\"},\"hovermode\":\"closest\",\"mapbox\":{\"style\":\"light\"},\"paper_bgcolor\":\"white\",\"plot_bgcolor\":\"#E5ECF6\",\"polar\":{\"angularaxis\":{\"gridcolor\":\"white\",\"linecolor\":\"white\",\"ticks\":\"\"},\"bgcolor\":\"#E5ECF6\",\"radialaxis\":{\"gridcolor\":\"white\",\"linecolor\":\"white\",\"ticks\":\"\"}},\"scene\":{\"xaxis\":{\"backgroundcolor\":\"#E5ECF6\",\"gridcolor\":\"white\",\"gridwidth\":2,\"linecolor\":\"white\",\"showbackground\":true,\"ticks\":\"\",\"zerolinecolor\":\"white\"},\"yaxis\":{\"backgroundcolor\":\"#E5ECF6\",\"gridcolor\":\"white\",\"gridwidth\":2,\"linecolor\":\"white\",\"showbackground\":true,\"ticks\":\"\",\"zerolinecolor\":\"white\"},\"zaxis\":{\"backgroundcolor\":\"#E5ECF6\",\"gridcolor\":\"white\",\"gridwidth\":2,\"linecolor\":\"white\",\"showbackground\":true,\"ticks\":\"\",\"zerolinecolor\":\"white\"}},\"shapedefaults\":{\"line\":{\"color\":\"#2a3f5f\"}},\"ternary\":{\"aaxis\":{\"gridcolor\":\"white\",\"linecolor\":\"white\",\"ticks\":\"\"},\"baxis\":{\"gridcolor\":\"white\",\"linecolor\":\"white\",\"ticks\":\"\"},\"bgcolor\":\"#E5ECF6\",\"caxis\":{\"gridcolor\":\"white\",\"linecolor\":\"white\",\"ticks\":\"\"}},\"title\":{\"x\":0.05},\"xaxis\":{\"automargin\":true,\"gridcolor\":\"white\",\"linecolor\":\"white\",\"ticks\":\"\",\"title\":{\"standoff\":15},\"zerolinecolor\":\"white\",\"zerolinewidth\":2},\"yaxis\":{\"automargin\":true,\"gridcolor\":\"white\",\"linecolor\":\"white\",\"ticks\":\"\",\"title\":{\"standoff\":15},\"zerolinecolor\":\"white\",\"zerolinewidth\":2}}},\"xaxis\":{\"anchor\":\"y\",\"domain\":[0.0,1.0],\"title\":{\"text\":\"Rok\"}},\"yaxis\":{\"anchor\":\"x\",\"domain\":[0.0,1.0],\"title\":{\"text\":\"Zyski (tys.)\"}},\"legend\":{\"tracegroupgap\":0},\"margin\":{\"t\":60},\"title\":{\"text\":\"Zysk w ka\\u017cdym roku\"}},                        {\"responsive\": true}                    ).then(function(){\n",
              "                            \n",
              "var gd = document.getElementById('10869df9-334b-436b-8295-50c7f8ef1619');\n",
              "var x = new MutationObserver(function (mutations, observer) {{\n",
              "        var display = window.getComputedStyle(gd).display;\n",
              "        if (!display || display === 'none') {{\n",
              "            console.log([gd, 'removed!']);\n",
              "            Plotly.purge(gd);\n",
              "            observer.disconnect();\n",
              "        }}\n",
              "}});\n",
              "\n",
              "// Listen for the removal of the full notebook cells\n",
              "var notebookContainer = gd.closest('#notebook-container');\n",
              "if (notebookContainer) {{\n",
              "    x.observe(notebookContainer, {childList: true});\n",
              "}}\n",
              "\n",
              "// Listen for the clearing of the current output cell\n",
              "var outputEl = gd.closest('.output');\n",
              "if (outputEl) {{\n",
              "    x.observe(outputEl, {childList: true});\n",
              "}}\n",
              "\n",
              "                        })                };                            </script>        </div>\n",
              "</body>\n",
              "</html>"
            ]
          },
          "metadata": {}
        }
      ]
    },
    {
      "cell_type": "markdown",
      "source": [
        "**Wnioski:**\n",
        "Zyski firmy tylko w trzech latach nie była dodatnia\n",
        "Jedynym trendem jaki zaobserwowałem na podstawie wykresu jest to, że firma po zanotowaniu straty, w kolejnym roku odrabia straty i jest zawsze na plus (w niektórych latach są to gigantyczne wzrosty np. 1926-1928, 1988-1989)\n"
      ],
      "metadata": {
        "id": "f_b4f3VquZtE"
      }
    },
    {
      "cell_type": "code",
      "source": [
        "fig = px.scatter(df, x='Rok', y='Zysk')\n",
        "fig.update_layout(title=\"Zysk w każdym roku\", xaxis_title=\"Rok\",\n",
        "    yaxis_title=\"Zyski (tys.)\")\n",
        "fig.show()"
      ],
      "metadata": {
        "colab": {
          "base_uri": "https://localhost:8080/",
          "height": 542
        },
        "id": "IXyxRy000jza",
        "outputId": "a04f12af-3ebb-44ab-bd16-be1d436411b9"
      },
      "execution_count": 21,
      "outputs": [
        {
          "output_type": "display_data",
          "data": {
            "text/html": [
              "<html>\n",
              "<head><meta charset=\"utf-8\" /></head>\n",
              "<body>\n",
              "    <div>            <script src=\"https://cdnjs.cloudflare.com/ajax/libs/mathjax/2.7.5/MathJax.js?config=TeX-AMS-MML_SVG\"></script><script type=\"text/javascript\">if (window.MathJax) {MathJax.Hub.Config({SVG: {font: \"STIX-Web\"}});}</script>                <script type=\"text/javascript\">window.PlotlyConfig = {MathJaxConfig: 'local'};</script>\n",
              "        <script src=\"https://cdn.plot.ly/plotly-2.8.3.min.js\"></script>                <div id=\"f7aa0367-a6da-4f67-8df2-a51edacdf845\" class=\"plotly-graph-div\" style=\"height:525px; width:100%;\"></div>            <script type=\"text/javascript\">                                    window.PLOTLYENV=window.PLOTLYENV || {};                                    if (document.getElementById(\"f7aa0367-a6da-4f67-8df2-a51edacdf845\")) {                    Plotly.newPlot(                        \"f7aa0367-a6da-4f67-8df2-a51edacdf845\",                        [{\"hovertemplate\":\"Rok=%{x}<br>Zysk=%{y}<extra></extra>\",\"legendgroup\":\"\",\"marker\":{\"color\":\"#636efa\",\"symbol\":\"circle\"},\"mode\":\"markers\",\"name\":\"\",\"orientation\":\"v\",\"showlegend\":false,\"x\":[1821,1822,1823,1824,1825,1826,1827,1828,1829,1830,1831,1832,1833,1834,1835,1836,1837,1838,1839,1840,1841,1842,1843,1844,1845,1846,1847,1848,1849,1850,1851,1852,1853,1854,1855,1856,1857,1858,1859,1860,1861,1862,1863,1864,1865,1866,1867,1868,1869,1870,1871,1872,1873,1874,1875,1876,1877,1878,1879,1880,1881,1882,1883,1884,1885,1886,1887,1888,1889,1890,1891,1892,1893,1894,1895,1896,1897,1898,1899,1900,1901,1902,1903,1904,1905,1906,1907,1908,1909,1910,1911,1912,1913,1914,1915,1916,1917,1918,1919,1920,1921,1922,1923,1924,1925,1926,1927,1928,1929,1930,1931,1932,1933,1934,1935,1936,1937,1938,1939,1940,1941,1942,1943,1944,1945,1946,1947,1948,1949,1950,1951,1952,1953,1954,1955,1956,1957,1958,1959,1960,1961,1962,1963,1964,1965,1966,1967,1968,1969,1970,1971,1972,1973,1974,1975,1976,1977,1978,1979,1980,1981,1982,1983,1984,1985,1986,1987,1988,1989,1990,1991,1992,1993,1994,1995,1996,1997,1998,1999,2000,2001,2002,2003,2004,2005,2006,2007,2008,2009,2010,2011,2012,2013,2014,2015,2016,2017,2018,2019,2020],\"xaxis\":\"x\",\"y\":[1645,658,1926,865,764,916,1082,994,1282,806,594,225,838,1928,1627,1487,385,600,101,626,434,1121,1424,1455,740,1001,1020,1042,905,154,1277,1277,1346,994,1405,206,1902,911,1641,1088,1227,266,2055,1308,1929,1031,408,1898,952,1155,1438,466,1494,579,1139,84,1277,1216,1973,459,779,793,672,992,784,732,1116,1866,1790,1020,997,1082,831,1209,282,1111,1459,652,391,1860,1188,1228,410,1013,1028,671,895,1315,1029,1062,236,859,1400,941,972,886,1037,819,1247,522,1573,2027,1069,1051,872,-244,450,1710,1537,249,855,870,453,655,914,1703,691,571,1324,61,911,1646,944,1664,978,1044,807,1639,1148,243,1785,1363,1192,150,810,1247,1104,1903,1724,541,640,1479,1165,1320,1134,752,49,1253,1771,701,913,1386,612,1343,1138,1082,1003,2045,1318,1001,689,914,980,682,1171,1568,1096,-413,1996,769,476,910,796,1107,1608,1275,26,1633,1310,1013,1319,545,1735,1237,1642,1407,854,478,1044,1038,1050,1327,1053,1302,636,988,895,-178,543,316],\"yaxis\":\"y\",\"type\":\"scatter\"}],                        {\"template\":{\"data\":{\"bar\":[{\"error_x\":{\"color\":\"#2a3f5f\"},\"error_y\":{\"color\":\"#2a3f5f\"},\"marker\":{\"line\":{\"color\":\"#E5ECF6\",\"width\":0.5},\"pattern\":{\"fillmode\":\"overlay\",\"size\":10,\"solidity\":0.2}},\"type\":\"bar\"}],\"barpolar\":[{\"marker\":{\"line\":{\"color\":\"#E5ECF6\",\"width\":0.5},\"pattern\":{\"fillmode\":\"overlay\",\"size\":10,\"solidity\":0.2}},\"type\":\"barpolar\"}],\"carpet\":[{\"aaxis\":{\"endlinecolor\":\"#2a3f5f\",\"gridcolor\":\"white\",\"linecolor\":\"white\",\"minorgridcolor\":\"white\",\"startlinecolor\":\"#2a3f5f\"},\"baxis\":{\"endlinecolor\":\"#2a3f5f\",\"gridcolor\":\"white\",\"linecolor\":\"white\",\"minorgridcolor\":\"white\",\"startlinecolor\":\"#2a3f5f\"},\"type\":\"carpet\"}],\"choropleth\":[{\"colorbar\":{\"outlinewidth\":0,\"ticks\":\"\"},\"type\":\"choropleth\"}],\"contour\":[{\"colorbar\":{\"outlinewidth\":0,\"ticks\":\"\"},\"colorscale\":[[0.0,\"#0d0887\"],[0.1111111111111111,\"#46039f\"],[0.2222222222222222,\"#7201a8\"],[0.3333333333333333,\"#9c179e\"],[0.4444444444444444,\"#bd3786\"],[0.5555555555555556,\"#d8576b\"],[0.6666666666666666,\"#ed7953\"],[0.7777777777777778,\"#fb9f3a\"],[0.8888888888888888,\"#fdca26\"],[1.0,\"#f0f921\"]],\"type\":\"contour\"}],\"contourcarpet\":[{\"colorbar\":{\"outlinewidth\":0,\"ticks\":\"\"},\"type\":\"contourcarpet\"}],\"heatmap\":[{\"colorbar\":{\"outlinewidth\":0,\"ticks\":\"\"},\"colorscale\":[[0.0,\"#0d0887\"],[0.1111111111111111,\"#46039f\"],[0.2222222222222222,\"#7201a8\"],[0.3333333333333333,\"#9c179e\"],[0.4444444444444444,\"#bd3786\"],[0.5555555555555556,\"#d8576b\"],[0.6666666666666666,\"#ed7953\"],[0.7777777777777778,\"#fb9f3a\"],[0.8888888888888888,\"#fdca26\"],[1.0,\"#f0f921\"]],\"type\":\"heatmap\"}],\"heatmapgl\":[{\"colorbar\":{\"outlinewidth\":0,\"ticks\":\"\"},\"colorscale\":[[0.0,\"#0d0887\"],[0.1111111111111111,\"#46039f\"],[0.2222222222222222,\"#7201a8\"],[0.3333333333333333,\"#9c179e\"],[0.4444444444444444,\"#bd3786\"],[0.5555555555555556,\"#d8576b\"],[0.6666666666666666,\"#ed7953\"],[0.7777777777777778,\"#fb9f3a\"],[0.8888888888888888,\"#fdca26\"],[1.0,\"#f0f921\"]],\"type\":\"heatmapgl\"}],\"histogram\":[{\"marker\":{\"pattern\":{\"fillmode\":\"overlay\",\"size\":10,\"solidity\":0.2}},\"type\":\"histogram\"}],\"histogram2d\":[{\"colorbar\":{\"outlinewidth\":0,\"ticks\":\"\"},\"colorscale\":[[0.0,\"#0d0887\"],[0.1111111111111111,\"#46039f\"],[0.2222222222222222,\"#7201a8\"],[0.3333333333333333,\"#9c179e\"],[0.4444444444444444,\"#bd3786\"],[0.5555555555555556,\"#d8576b\"],[0.6666666666666666,\"#ed7953\"],[0.7777777777777778,\"#fb9f3a\"],[0.8888888888888888,\"#fdca26\"],[1.0,\"#f0f921\"]],\"type\":\"histogram2d\"}],\"histogram2dcontour\":[{\"colorbar\":{\"outlinewidth\":0,\"ticks\":\"\"},\"colorscale\":[[0.0,\"#0d0887\"],[0.1111111111111111,\"#46039f\"],[0.2222222222222222,\"#7201a8\"],[0.3333333333333333,\"#9c179e\"],[0.4444444444444444,\"#bd3786\"],[0.5555555555555556,\"#d8576b\"],[0.6666666666666666,\"#ed7953\"],[0.7777777777777778,\"#fb9f3a\"],[0.8888888888888888,\"#fdca26\"],[1.0,\"#f0f921\"]],\"type\":\"histogram2dcontour\"}],\"mesh3d\":[{\"colorbar\":{\"outlinewidth\":0,\"ticks\":\"\"},\"type\":\"mesh3d\"}],\"parcoords\":[{\"line\":{\"colorbar\":{\"outlinewidth\":0,\"ticks\":\"\"}},\"type\":\"parcoords\"}],\"pie\":[{\"automargin\":true,\"type\":\"pie\"}],\"scatter\":[{\"marker\":{\"colorbar\":{\"outlinewidth\":0,\"ticks\":\"\"}},\"type\":\"scatter\"}],\"scatter3d\":[{\"line\":{\"colorbar\":{\"outlinewidth\":0,\"ticks\":\"\"}},\"marker\":{\"colorbar\":{\"outlinewidth\":0,\"ticks\":\"\"}},\"type\":\"scatter3d\"}],\"scattercarpet\":[{\"marker\":{\"colorbar\":{\"outlinewidth\":0,\"ticks\":\"\"}},\"type\":\"scattercarpet\"}],\"scattergeo\":[{\"marker\":{\"colorbar\":{\"outlinewidth\":0,\"ticks\":\"\"}},\"type\":\"scattergeo\"}],\"scattergl\":[{\"marker\":{\"colorbar\":{\"outlinewidth\":0,\"ticks\":\"\"}},\"type\":\"scattergl\"}],\"scattermapbox\":[{\"marker\":{\"colorbar\":{\"outlinewidth\":0,\"ticks\":\"\"}},\"type\":\"scattermapbox\"}],\"scatterpolar\":[{\"marker\":{\"colorbar\":{\"outlinewidth\":0,\"ticks\":\"\"}},\"type\":\"scatterpolar\"}],\"scatterpolargl\":[{\"marker\":{\"colorbar\":{\"outlinewidth\":0,\"ticks\":\"\"}},\"type\":\"scatterpolargl\"}],\"scatterternary\":[{\"marker\":{\"colorbar\":{\"outlinewidth\":0,\"ticks\":\"\"}},\"type\":\"scatterternary\"}],\"surface\":[{\"colorbar\":{\"outlinewidth\":0,\"ticks\":\"\"},\"colorscale\":[[0.0,\"#0d0887\"],[0.1111111111111111,\"#46039f\"],[0.2222222222222222,\"#7201a8\"],[0.3333333333333333,\"#9c179e\"],[0.4444444444444444,\"#bd3786\"],[0.5555555555555556,\"#d8576b\"],[0.6666666666666666,\"#ed7953\"],[0.7777777777777778,\"#fb9f3a\"],[0.8888888888888888,\"#fdca26\"],[1.0,\"#f0f921\"]],\"type\":\"surface\"}],\"table\":[{\"cells\":{\"fill\":{\"color\":\"#EBF0F8\"},\"line\":{\"color\":\"white\"}},\"header\":{\"fill\":{\"color\":\"#C8D4E3\"},\"line\":{\"color\":\"white\"}},\"type\":\"table\"}]},\"layout\":{\"annotationdefaults\":{\"arrowcolor\":\"#2a3f5f\",\"arrowhead\":0,\"arrowwidth\":1},\"autotypenumbers\":\"strict\",\"coloraxis\":{\"colorbar\":{\"outlinewidth\":0,\"ticks\":\"\"}},\"colorscale\":{\"diverging\":[[0,\"#8e0152\"],[0.1,\"#c51b7d\"],[0.2,\"#de77ae\"],[0.3,\"#f1b6da\"],[0.4,\"#fde0ef\"],[0.5,\"#f7f7f7\"],[0.6,\"#e6f5d0\"],[0.7,\"#b8e186\"],[0.8,\"#7fbc41\"],[0.9,\"#4d9221\"],[1,\"#276419\"]],\"sequential\":[[0.0,\"#0d0887\"],[0.1111111111111111,\"#46039f\"],[0.2222222222222222,\"#7201a8\"],[0.3333333333333333,\"#9c179e\"],[0.4444444444444444,\"#bd3786\"],[0.5555555555555556,\"#d8576b\"],[0.6666666666666666,\"#ed7953\"],[0.7777777777777778,\"#fb9f3a\"],[0.8888888888888888,\"#fdca26\"],[1.0,\"#f0f921\"]],\"sequentialminus\":[[0.0,\"#0d0887\"],[0.1111111111111111,\"#46039f\"],[0.2222222222222222,\"#7201a8\"],[0.3333333333333333,\"#9c179e\"],[0.4444444444444444,\"#bd3786\"],[0.5555555555555556,\"#d8576b\"],[0.6666666666666666,\"#ed7953\"],[0.7777777777777778,\"#fb9f3a\"],[0.8888888888888888,\"#fdca26\"],[1.0,\"#f0f921\"]]},\"colorway\":[\"#636efa\",\"#EF553B\",\"#00cc96\",\"#ab63fa\",\"#FFA15A\",\"#19d3f3\",\"#FF6692\",\"#B6E880\",\"#FF97FF\",\"#FECB52\"],\"font\":{\"color\":\"#2a3f5f\"},\"geo\":{\"bgcolor\":\"white\",\"lakecolor\":\"white\",\"landcolor\":\"#E5ECF6\",\"showlakes\":true,\"showland\":true,\"subunitcolor\":\"white\"},\"hoverlabel\":{\"align\":\"left\"},\"hovermode\":\"closest\",\"mapbox\":{\"style\":\"light\"},\"paper_bgcolor\":\"white\",\"plot_bgcolor\":\"#E5ECF6\",\"polar\":{\"angularaxis\":{\"gridcolor\":\"white\",\"linecolor\":\"white\",\"ticks\":\"\"},\"bgcolor\":\"#E5ECF6\",\"radialaxis\":{\"gridcolor\":\"white\",\"linecolor\":\"white\",\"ticks\":\"\"}},\"scene\":{\"xaxis\":{\"backgroundcolor\":\"#E5ECF6\",\"gridcolor\":\"white\",\"gridwidth\":2,\"linecolor\":\"white\",\"showbackground\":true,\"ticks\":\"\",\"zerolinecolor\":\"white\"},\"yaxis\":{\"backgroundcolor\":\"#E5ECF6\",\"gridcolor\":\"white\",\"gridwidth\":2,\"linecolor\":\"white\",\"showbackground\":true,\"ticks\":\"\",\"zerolinecolor\":\"white\"},\"zaxis\":{\"backgroundcolor\":\"#E5ECF6\",\"gridcolor\":\"white\",\"gridwidth\":2,\"linecolor\":\"white\",\"showbackground\":true,\"ticks\":\"\",\"zerolinecolor\":\"white\"}},\"shapedefaults\":{\"line\":{\"color\":\"#2a3f5f\"}},\"ternary\":{\"aaxis\":{\"gridcolor\":\"white\",\"linecolor\":\"white\",\"ticks\":\"\"},\"baxis\":{\"gridcolor\":\"white\",\"linecolor\":\"white\",\"ticks\":\"\"},\"bgcolor\":\"#E5ECF6\",\"caxis\":{\"gridcolor\":\"white\",\"linecolor\":\"white\",\"ticks\":\"\"}},\"title\":{\"x\":0.05},\"xaxis\":{\"automargin\":true,\"gridcolor\":\"white\",\"linecolor\":\"white\",\"ticks\":\"\",\"title\":{\"standoff\":15},\"zerolinecolor\":\"white\",\"zerolinewidth\":2},\"yaxis\":{\"automargin\":true,\"gridcolor\":\"white\",\"linecolor\":\"white\",\"ticks\":\"\",\"title\":{\"standoff\":15},\"zerolinecolor\":\"white\",\"zerolinewidth\":2}}},\"xaxis\":{\"anchor\":\"y\",\"domain\":[0.0,1.0],\"title\":{\"text\":\"Rok\"}},\"yaxis\":{\"anchor\":\"x\",\"domain\":[0.0,1.0],\"title\":{\"text\":\"Zyski (tys.)\"}},\"legend\":{\"tracegroupgap\":0},\"margin\":{\"t\":60},\"title\":{\"text\":\"Zysk w ka\\u017cdym roku\"}},                        {\"responsive\": true}                    ).then(function(){\n",
              "                            \n",
              "var gd = document.getElementById('f7aa0367-a6da-4f67-8df2-a51edacdf845');\n",
              "var x = new MutationObserver(function (mutations, observer) {{\n",
              "        var display = window.getComputedStyle(gd).display;\n",
              "        if (!display || display === 'none') {{\n",
              "            console.log([gd, 'removed!']);\n",
              "            Plotly.purge(gd);\n",
              "            observer.disconnect();\n",
              "        }}\n",
              "}});\n",
              "\n",
              "// Listen for the removal of the full notebook cells\n",
              "var notebookContainer = gd.closest('#notebook-container');\n",
              "if (notebookContainer) {{\n",
              "    x.observe(notebookContainer, {childList: true});\n",
              "}}\n",
              "\n",
              "// Listen for the clearing of the current output cell\n",
              "var outputEl = gd.closest('.output');\n",
              "if (outputEl) {{\n",
              "    x.observe(outputEl, {childList: true});\n",
              "}}\n",
              "\n",
              "                        })                };                            </script>        </div>\n",
              "</body>\n",
              "</html>"
            ]
          },
          "metadata": {}
        }
      ]
    },
    {
      "cell_type": "code",
      "source": [
        "import statsmodels.formula.api as smf\n",
        "model = smf.ols(formula='Zysk ~ Rok', data=df).fit()\n",
        "print(model.summary())"
      ],
      "metadata": {
        "colab": {
          "base_uri": "https://localhost:8080/"
        },
        "id": "r7v_8i_Y0195",
        "outputId": "01575575-4078-4d5c-bc55-1c8e78e7cb2a"
      },
      "execution_count": 11,
      "outputs": [
        {
          "output_type": "stream",
          "name": "stdout",
          "text": [
            "                            OLS Regression Results                            \n",
            "==============================================================================\n",
            "Dep. Variable:                   Zysk   R-squared:                       0.000\n",
            "Model:                            OLS   Adj. R-squared:                 -0.005\n",
            "Method:                 Least Squares   F-statistic:                   0.09357\n",
            "Date:                Thu, 26 Jan 2023   Prob (F-statistic):              0.760\n",
            "Time:                        20:45:55   Log-Likelihood:                -1521.3\n",
            "No. Observations:                 200   AIC:                             3047.\n",
            "Df Residuals:                     198   BIC:                             3053.\n",
            "Df Model:                           1                                         \n",
            "Covariance Type:            nonrobust                                         \n",
            "==============================================================================\n",
            "                 coef    std err          t      P>|t|      [0.025      0.975]\n",
            "------------------------------------------------------------------------------\n",
            "Intercept   1373.8795   1150.888      1.194      0.234    -895.692    3643.452\n",
            "Rok           -0.1832      0.599     -0.306      0.760      -1.364       0.998\n",
            "==============================================================================\n",
            "Omnibus:                        0.585   Durbin-Watson:                   2.058\n",
            "Prob(Omnibus):                  0.746   Jarque-Bera (JB):                0.628\n",
            "Skew:                          -0.128   Prob(JB):                        0.730\n",
            "Kurtosis:                       2.900   Cond. No.                     6.39e+04\n",
            "==============================================================================\n",
            "\n",
            "Notes:\n",
            "[1] Standard Errors assume that the covariance matrix of the errors is correctly specified.\n",
            "[2] The condition number is large, 6.39e+04. This might indicate that there are\n",
            "strong multicollinearity or other numerical problems.\n"
          ]
        }
      ]
    },
    {
      "cell_type": "markdown",
      "source": [
        "Zmieniam rok na lata"
      ],
      "metadata": {
        "id": "KcL485JM1WZV"
      }
    },
    {
      "cell_type": "code",
      "source": [
        "df['Lata'] = df['Rok'] - 1821"
      ],
      "metadata": {
        "id": "JPTeXCxj0zWR"
      },
      "execution_count": 13,
      "outputs": []
    },
    {
      "cell_type": "code",
      "source": [
        "model2 = smf.ols(formula='Zysk ~ Lata', data=df).fit()\n",
        "print(model2.summary())"
      ],
      "metadata": {
        "colab": {
          "base_uri": "https://localhost:8080/"
        },
        "id": "yMoj1jIm0xYJ",
        "outputId": "b0162ed4-c85d-49ac-abde-63c5f8396b91"
      },
      "execution_count": 15,
      "outputs": [
        {
          "output_type": "stream",
          "name": "stdout",
          "text": [
            "                            OLS Regression Results                            \n",
            "==============================================================================\n",
            "Dep. Variable:                   Zysk   R-squared:                       0.000\n",
            "Model:                            OLS   Adj. R-squared:                 -0.005\n",
            "Method:                 Least Squares   F-statistic:                   0.09357\n",
            "Date:                Thu, 26 Jan 2023   Prob (F-statistic):              0.760\n",
            "Time:                        20:46:45   Log-Likelihood:                -1521.3\n",
            "No. Observations:                 200   AIC:                             3047.\n",
            "Df Residuals:                     198   BIC:                             3053.\n",
            "Df Model:                           1                                         \n",
            "Covariance Type:            nonrobust                                         \n",
            "==============================================================================\n",
            "                 coef    std err          t      P>|t|      [0.025      0.975]\n",
            "------------------------------------------------------------------------------\n",
            "Intercept   1040.2212     68.906     15.096      0.000     904.336    1176.106\n",
            "Lata          -0.1832      0.599     -0.306      0.760      -1.364       0.998\n",
            "==============================================================================\n",
            "Omnibus:                        0.585   Durbin-Watson:                   2.058\n",
            "Prob(Omnibus):                  0.746   Jarque-Bera (JB):                0.628\n",
            "Skew:                          -0.128   Prob(JB):                        0.730\n",
            "Kurtosis:                       2.900   Cond. No.                         229.\n",
            "==============================================================================\n",
            "\n",
            "Notes:\n",
            "[1] Standard Errors assume that the covariance matrix of the errors is correctly specified.\n"
          ]
        }
      ]
    },
    {
      "cell_type": "code",
      "source": [
        "import plotly.graph_objects as go\n",
        "\n",
        "df[\"fitted\"] = model.fittedvalues\n",
        "\n",
        "fig = go.Figure()\n",
        "fig.add_trace(go.Scatter(\n",
        "    x=df[\"Rok\"], y=df[\"Zysk\"], name=\"Zyski w każdym roku\", mode=\"markers\"))\n",
        "fig.add_trace(go.Scatter(\n",
        "    x=df[\"Rok\"], y=df[\"fitted\"], name=\"Dopasowana prosta\"))\n",
        "fig.update_layout(title=\"Dopasowana prosta i zyski w każdym roku\", xaxis_title=\"Rok\",\n",
        "    yaxis_title=\"Zyski\")\n",
        "fig.show()"
      ],
      "metadata": {
        "colab": {
          "base_uri": "https://localhost:8080/",
          "height": 542
        },
        "id": "561qZqsZEsCG",
        "outputId": "74c1c3d6-5bae-457f-e6eb-c97da0955510"
      },
      "execution_count": 22,
      "outputs": [
        {
          "output_type": "display_data",
          "data": {
            "text/html": [
              "<html>\n",
              "<head><meta charset=\"utf-8\" /></head>\n",
              "<body>\n",
              "    <div>            <script src=\"https://cdnjs.cloudflare.com/ajax/libs/mathjax/2.7.5/MathJax.js?config=TeX-AMS-MML_SVG\"></script><script type=\"text/javascript\">if (window.MathJax) {MathJax.Hub.Config({SVG: {font: \"STIX-Web\"}});}</script>                <script type=\"text/javascript\">window.PlotlyConfig = {MathJaxConfig: 'local'};</script>\n",
              "        <script src=\"https://cdn.plot.ly/plotly-2.8.3.min.js\"></script>                <div id=\"415b69e4-adba-4e3c-b405-8e4489927895\" class=\"plotly-graph-div\" style=\"height:525px; width:100%;\"></div>            <script type=\"text/javascript\">                                    window.PLOTLYENV=window.PLOTLYENV || {};                                    if (document.getElementById(\"415b69e4-adba-4e3c-b405-8e4489927895\")) {                    Plotly.newPlot(                        \"415b69e4-adba-4e3c-b405-8e4489927895\",                        [{\"mode\":\"markers\",\"name\":\"Zyski w ka\\u017cdym roku\",\"x\":[1821,1822,1823,1824,1825,1826,1827,1828,1829,1830,1831,1832,1833,1834,1835,1836,1837,1838,1839,1840,1841,1842,1843,1844,1845,1846,1847,1848,1849,1850,1851,1852,1853,1854,1855,1856,1857,1858,1859,1860,1861,1862,1863,1864,1865,1866,1867,1868,1869,1870,1871,1872,1873,1874,1875,1876,1877,1878,1879,1880,1881,1882,1883,1884,1885,1886,1887,1888,1889,1890,1891,1892,1893,1894,1895,1896,1897,1898,1899,1900,1901,1902,1903,1904,1905,1906,1907,1908,1909,1910,1911,1912,1913,1914,1915,1916,1917,1918,1919,1920,1921,1922,1923,1924,1925,1926,1927,1928,1929,1930,1931,1932,1933,1934,1935,1936,1937,1938,1939,1940,1941,1942,1943,1944,1945,1946,1947,1948,1949,1950,1951,1952,1953,1954,1955,1956,1957,1958,1959,1960,1961,1962,1963,1964,1965,1966,1967,1968,1969,1970,1971,1972,1973,1974,1975,1976,1977,1978,1979,1980,1981,1982,1983,1984,1985,1986,1987,1988,1989,1990,1991,1992,1993,1994,1995,1996,1997,1998,1999,2000,2001,2002,2003,2004,2005,2006,2007,2008,2009,2010,2011,2012,2013,2014,2015,2016,2017,2018,2019,2020],\"y\":[1645,658,1926,865,764,916,1082,994,1282,806,594,225,838,1928,1627,1487,385,600,101,626,434,1121,1424,1455,740,1001,1020,1042,905,154,1277,1277,1346,994,1405,206,1902,911,1641,1088,1227,266,2055,1308,1929,1031,408,1898,952,1155,1438,466,1494,579,1139,84,1277,1216,1973,459,779,793,672,992,784,732,1116,1866,1790,1020,997,1082,831,1209,282,1111,1459,652,391,1860,1188,1228,410,1013,1028,671,895,1315,1029,1062,236,859,1400,941,972,886,1037,819,1247,522,1573,2027,1069,1051,872,-244,450,1710,1537,249,855,870,453,655,914,1703,691,571,1324,61,911,1646,944,1664,978,1044,807,1639,1148,243,1785,1363,1192,150,810,1247,1104,1903,1724,541,640,1479,1165,1320,1134,752,49,1253,1771,701,913,1386,612,1343,1138,1082,1003,2045,1318,1001,689,914,980,682,1171,1568,1096,-413,1996,769,476,910,796,1107,1608,1275,26,1633,1310,1013,1319,545,1735,1237,1642,1407,854,478,1044,1038,1050,1327,1053,1302,636,988,895,-178,543,316],\"type\":\"scatter\"},{\"name\":\"Dopasowana prosta\",\"x\":[1821,1822,1823,1824,1825,1826,1827,1828,1829,1830,1831,1832,1833,1834,1835,1836,1837,1838,1839,1840,1841,1842,1843,1844,1845,1846,1847,1848,1849,1850,1851,1852,1853,1854,1855,1856,1857,1858,1859,1860,1861,1862,1863,1864,1865,1866,1867,1868,1869,1870,1871,1872,1873,1874,1875,1876,1877,1878,1879,1880,1881,1882,1883,1884,1885,1886,1887,1888,1889,1890,1891,1892,1893,1894,1895,1896,1897,1898,1899,1900,1901,1902,1903,1904,1905,1906,1907,1908,1909,1910,1911,1912,1913,1914,1915,1916,1917,1918,1919,1920,1921,1922,1923,1924,1925,1926,1927,1928,1929,1930,1931,1932,1933,1934,1935,1936,1937,1938,1939,1940,1941,1942,1943,1944,1945,1946,1947,1948,1949,1950,1951,1952,1953,1954,1955,1956,1957,1958,1959,1960,1961,1962,1963,1964,1965,1966,1967,1968,1969,1970,1971,1972,1973,1974,1975,1976,1977,1978,1979,1980,1981,1982,1983,1984,1985,1986,1987,1988,1989,1990,1991,1992,1993,1994,1995,1996,1997,1998,1999,2000,2001,2002,2003,2004,2005,2006,2007,2008,2009,2010,2011,2012,2013,2014,2015,2016,2017,2018,2019,2020],\"y\":[1040.2211940298516,1040.0379659491496,1039.8547378684475,1039.6715097877454,1039.4882817070434,1039.3050536263413,1039.1218255456395,1038.9385974649374,1038.7553693842353,1038.5721413035335,1038.3889132228314,1038.2056851421294,1038.0224570614273,1037.8392289807252,1037.6560009000232,1037.4727728193213,1037.2895447386193,1037.1063166579172,1036.9230885772154,1036.7398604965133,1036.5566324158112,1036.3734043351092,1036.190176254407,1036.0069481737053,1035.8237200930032,1035.6404920123011,1035.457263931599,1035.2740358508972,1035.0908077701952,1034.907579689493,1034.724351608791,1034.541123528089,1034.3578954473871,1034.174667366685,1033.991439285983,1033.808211205281,1033.624983124579,1033.441755043877,1033.258526963175,1033.075298882473,1032.8920708017708,1032.708842721069,1032.525614640367,1032.3423865596649,1032.1591584789628,1031.975930398261,1031.792702317559,1031.6094742368568,1031.4262461561548,1031.2430180754527,1031.0597899947509,1030.8765619140488,1030.6933338333467,1030.510105752645,1030.3268776719428,1030.1436495912408,1029.9604215105387,1029.7771934298366,1029.5939653491346,1029.4107372684327,1029.2275091877307,1029.0442811070286,1028.8610530263268,1028.6778249456247,1028.4945968649226,1028.3113687842206,1028.1281407035185,1027.9449126228164,1027.7616845421146,1027.5784564614125,1027.3952283807105,1027.2120003000086,1027.0287722193066,1026.8455441386045,1026.6623160579024,1026.4790879772004,1026.2958598964983,1026.1126318157965,1025.9294037350944,1025.7461756543923,1025.5629475736905,1025.3797194929884,1025.1964914122864,1025.0132633315843,1024.8300352508822,1024.6468071701802,1024.4635790894783,1024.2803510087763,1024.0971229280742,1023.9138948473723,1023.7306667666703,1023.5474386859682,1023.3642106052662,1023.1809825245641,1022.9977544438622,1022.8145263631602,1022.6312982824581,1022.4480702017561,1022.2648421210541,1022.0816140403522,1021.8983859596501,1021.715157878948,1021.5319297982461,1021.348701717544,1021.1654736368421,1020.98224555614,1020.799017475438,1020.615789394736,1020.432561314034,1020.249333233332,1020.0661051526299,1019.882877071928,1019.699648991226,1019.516420910524,1019.3331928298219,1019.1499647491198,1018.9667366684179,1018.7835085877159,1018.6002805070138,1018.4170524263118,1018.2338243456098,1018.0505962649079,1017.8673681842058,1017.6841401035038,1017.5009120228017,1017.3176839420997,1017.1344558613978,1016.9512277806957,1016.7679996999937,1016.5847716192917,1016.4015435385897,1016.2183154578877,1016.0350873771856,1015.8518592964836,1015.6686312157816,1015.4854031350797,1015.3021750543776,1015.1189469736755,1014.9357188929736,1014.7524908122716,1014.5692627315696,1014.3860346508675,1014.2028065701655,1014.0195784894635,1013.8363504087615,1013.6531223280595,1013.4698942473574,1013.2866661666554,1013.1034380859535,1012.9202100052514,1012.7369819245494,1012.5537538438474,1012.3705257631455,1012.1872976824434,1012.0040696017413,1011.8208415210393,1011.6376134403373,1011.4543853596354,1011.2711572789333,1011.0879291982312,1010.9047011175293,1010.7214730368273,1010.5382449561253,1010.3550168754232,1010.1717887947211,1009.9885607140192,1009.8053326333172,1009.6221045526152,1009.4388764719131,1009.2556483912111,1009.0724203105092,1008.8891922298071,1008.7059641491051,1008.522736068403,1008.339507987701,1008.1562799069991,1007.973051826297,1007.789823745595,1007.606595664893,1007.423367584191,1007.240139503489,1007.0569114227869,1006.873683342085,1006.6904552613829,1006.507227180681,1006.3239990999789,1006.1407710192768,1005.9575429385749,1005.7743148578729,1005.5910867771709,1005.4078586964688,1005.2246306157668,1005.0414025350649,1004.8581744543628,1004.6749463736608,1004.4917182929587,1004.3084902122567,1004.1252621315548,1003.9420340508527,1003.7588059701507],\"type\":\"scatter\"}],                        {\"template\":{\"data\":{\"bar\":[{\"error_x\":{\"color\":\"#2a3f5f\"},\"error_y\":{\"color\":\"#2a3f5f\"},\"marker\":{\"line\":{\"color\":\"#E5ECF6\",\"width\":0.5},\"pattern\":{\"fillmode\":\"overlay\",\"size\":10,\"solidity\":0.2}},\"type\":\"bar\"}],\"barpolar\":[{\"marker\":{\"line\":{\"color\":\"#E5ECF6\",\"width\":0.5},\"pattern\":{\"fillmode\":\"overlay\",\"size\":10,\"solidity\":0.2}},\"type\":\"barpolar\"}],\"carpet\":[{\"aaxis\":{\"endlinecolor\":\"#2a3f5f\",\"gridcolor\":\"white\",\"linecolor\":\"white\",\"minorgridcolor\":\"white\",\"startlinecolor\":\"#2a3f5f\"},\"baxis\":{\"endlinecolor\":\"#2a3f5f\",\"gridcolor\":\"white\",\"linecolor\":\"white\",\"minorgridcolor\":\"white\",\"startlinecolor\":\"#2a3f5f\"},\"type\":\"carpet\"}],\"choropleth\":[{\"colorbar\":{\"outlinewidth\":0,\"ticks\":\"\"},\"type\":\"choropleth\"}],\"contour\":[{\"colorbar\":{\"outlinewidth\":0,\"ticks\":\"\"},\"colorscale\":[[0.0,\"#0d0887\"],[0.1111111111111111,\"#46039f\"],[0.2222222222222222,\"#7201a8\"],[0.3333333333333333,\"#9c179e\"],[0.4444444444444444,\"#bd3786\"],[0.5555555555555556,\"#d8576b\"],[0.6666666666666666,\"#ed7953\"],[0.7777777777777778,\"#fb9f3a\"],[0.8888888888888888,\"#fdca26\"],[1.0,\"#f0f921\"]],\"type\":\"contour\"}],\"contourcarpet\":[{\"colorbar\":{\"outlinewidth\":0,\"ticks\":\"\"},\"type\":\"contourcarpet\"}],\"heatmap\":[{\"colorbar\":{\"outlinewidth\":0,\"ticks\":\"\"},\"colorscale\":[[0.0,\"#0d0887\"],[0.1111111111111111,\"#46039f\"],[0.2222222222222222,\"#7201a8\"],[0.3333333333333333,\"#9c179e\"],[0.4444444444444444,\"#bd3786\"],[0.5555555555555556,\"#d8576b\"],[0.6666666666666666,\"#ed7953\"],[0.7777777777777778,\"#fb9f3a\"],[0.8888888888888888,\"#fdca26\"],[1.0,\"#f0f921\"]],\"type\":\"heatmap\"}],\"heatmapgl\":[{\"colorbar\":{\"outlinewidth\":0,\"ticks\":\"\"},\"colorscale\":[[0.0,\"#0d0887\"],[0.1111111111111111,\"#46039f\"],[0.2222222222222222,\"#7201a8\"],[0.3333333333333333,\"#9c179e\"],[0.4444444444444444,\"#bd3786\"],[0.5555555555555556,\"#d8576b\"],[0.6666666666666666,\"#ed7953\"],[0.7777777777777778,\"#fb9f3a\"],[0.8888888888888888,\"#fdca26\"],[1.0,\"#f0f921\"]],\"type\":\"heatmapgl\"}],\"histogram\":[{\"marker\":{\"pattern\":{\"fillmode\":\"overlay\",\"size\":10,\"solidity\":0.2}},\"type\":\"histogram\"}],\"histogram2d\":[{\"colorbar\":{\"outlinewidth\":0,\"ticks\":\"\"},\"colorscale\":[[0.0,\"#0d0887\"],[0.1111111111111111,\"#46039f\"],[0.2222222222222222,\"#7201a8\"],[0.3333333333333333,\"#9c179e\"],[0.4444444444444444,\"#bd3786\"],[0.5555555555555556,\"#d8576b\"],[0.6666666666666666,\"#ed7953\"],[0.7777777777777778,\"#fb9f3a\"],[0.8888888888888888,\"#fdca26\"],[1.0,\"#f0f921\"]],\"type\":\"histogram2d\"}],\"histogram2dcontour\":[{\"colorbar\":{\"outlinewidth\":0,\"ticks\":\"\"},\"colorscale\":[[0.0,\"#0d0887\"],[0.1111111111111111,\"#46039f\"],[0.2222222222222222,\"#7201a8\"],[0.3333333333333333,\"#9c179e\"],[0.4444444444444444,\"#bd3786\"],[0.5555555555555556,\"#d8576b\"],[0.6666666666666666,\"#ed7953\"],[0.7777777777777778,\"#fb9f3a\"],[0.8888888888888888,\"#fdca26\"],[1.0,\"#f0f921\"]],\"type\":\"histogram2dcontour\"}],\"mesh3d\":[{\"colorbar\":{\"outlinewidth\":0,\"ticks\":\"\"},\"type\":\"mesh3d\"}],\"parcoords\":[{\"line\":{\"colorbar\":{\"outlinewidth\":0,\"ticks\":\"\"}},\"type\":\"parcoords\"}],\"pie\":[{\"automargin\":true,\"type\":\"pie\"}],\"scatter\":[{\"marker\":{\"colorbar\":{\"outlinewidth\":0,\"ticks\":\"\"}},\"type\":\"scatter\"}],\"scatter3d\":[{\"line\":{\"colorbar\":{\"outlinewidth\":0,\"ticks\":\"\"}},\"marker\":{\"colorbar\":{\"outlinewidth\":0,\"ticks\":\"\"}},\"type\":\"scatter3d\"}],\"scattercarpet\":[{\"marker\":{\"colorbar\":{\"outlinewidth\":0,\"ticks\":\"\"}},\"type\":\"scattercarpet\"}],\"scattergeo\":[{\"marker\":{\"colorbar\":{\"outlinewidth\":0,\"ticks\":\"\"}},\"type\":\"scattergeo\"}],\"scattergl\":[{\"marker\":{\"colorbar\":{\"outlinewidth\":0,\"ticks\":\"\"}},\"type\":\"scattergl\"}],\"scattermapbox\":[{\"marker\":{\"colorbar\":{\"outlinewidth\":0,\"ticks\":\"\"}},\"type\":\"scattermapbox\"}],\"scatterpolar\":[{\"marker\":{\"colorbar\":{\"outlinewidth\":0,\"ticks\":\"\"}},\"type\":\"scatterpolar\"}],\"scatterpolargl\":[{\"marker\":{\"colorbar\":{\"outlinewidth\":0,\"ticks\":\"\"}},\"type\":\"scatterpolargl\"}],\"scatterternary\":[{\"marker\":{\"colorbar\":{\"outlinewidth\":0,\"ticks\":\"\"}},\"type\":\"scatterternary\"}],\"surface\":[{\"colorbar\":{\"outlinewidth\":0,\"ticks\":\"\"},\"colorscale\":[[0.0,\"#0d0887\"],[0.1111111111111111,\"#46039f\"],[0.2222222222222222,\"#7201a8\"],[0.3333333333333333,\"#9c179e\"],[0.4444444444444444,\"#bd3786\"],[0.5555555555555556,\"#d8576b\"],[0.6666666666666666,\"#ed7953\"],[0.7777777777777778,\"#fb9f3a\"],[0.8888888888888888,\"#fdca26\"],[1.0,\"#f0f921\"]],\"type\":\"surface\"}],\"table\":[{\"cells\":{\"fill\":{\"color\":\"#EBF0F8\"},\"line\":{\"color\":\"white\"}},\"header\":{\"fill\":{\"color\":\"#C8D4E3\"},\"line\":{\"color\":\"white\"}},\"type\":\"table\"}]},\"layout\":{\"annotationdefaults\":{\"arrowcolor\":\"#2a3f5f\",\"arrowhead\":0,\"arrowwidth\":1},\"autotypenumbers\":\"strict\",\"coloraxis\":{\"colorbar\":{\"outlinewidth\":0,\"ticks\":\"\"}},\"colorscale\":{\"diverging\":[[0,\"#8e0152\"],[0.1,\"#c51b7d\"],[0.2,\"#de77ae\"],[0.3,\"#f1b6da\"],[0.4,\"#fde0ef\"],[0.5,\"#f7f7f7\"],[0.6,\"#e6f5d0\"],[0.7,\"#b8e186\"],[0.8,\"#7fbc41\"],[0.9,\"#4d9221\"],[1,\"#276419\"]],\"sequential\":[[0.0,\"#0d0887\"],[0.1111111111111111,\"#46039f\"],[0.2222222222222222,\"#7201a8\"],[0.3333333333333333,\"#9c179e\"],[0.4444444444444444,\"#bd3786\"],[0.5555555555555556,\"#d8576b\"],[0.6666666666666666,\"#ed7953\"],[0.7777777777777778,\"#fb9f3a\"],[0.8888888888888888,\"#fdca26\"],[1.0,\"#f0f921\"]],\"sequentialminus\":[[0.0,\"#0d0887\"],[0.1111111111111111,\"#46039f\"],[0.2222222222222222,\"#7201a8\"],[0.3333333333333333,\"#9c179e\"],[0.4444444444444444,\"#bd3786\"],[0.5555555555555556,\"#d8576b\"],[0.6666666666666666,\"#ed7953\"],[0.7777777777777778,\"#fb9f3a\"],[0.8888888888888888,\"#fdca26\"],[1.0,\"#f0f921\"]]},\"colorway\":[\"#636efa\",\"#EF553B\",\"#00cc96\",\"#ab63fa\",\"#FFA15A\",\"#19d3f3\",\"#FF6692\",\"#B6E880\",\"#FF97FF\",\"#FECB52\"],\"font\":{\"color\":\"#2a3f5f\"},\"geo\":{\"bgcolor\":\"white\",\"lakecolor\":\"white\",\"landcolor\":\"#E5ECF6\",\"showlakes\":true,\"showland\":true,\"subunitcolor\":\"white\"},\"hoverlabel\":{\"align\":\"left\"},\"hovermode\":\"closest\",\"mapbox\":{\"style\":\"light\"},\"paper_bgcolor\":\"white\",\"plot_bgcolor\":\"#E5ECF6\",\"polar\":{\"angularaxis\":{\"gridcolor\":\"white\",\"linecolor\":\"white\",\"ticks\":\"\"},\"bgcolor\":\"#E5ECF6\",\"radialaxis\":{\"gridcolor\":\"white\",\"linecolor\":\"white\",\"ticks\":\"\"}},\"scene\":{\"xaxis\":{\"backgroundcolor\":\"#E5ECF6\",\"gridcolor\":\"white\",\"gridwidth\":2,\"linecolor\":\"white\",\"showbackground\":true,\"ticks\":\"\",\"zerolinecolor\":\"white\"},\"yaxis\":{\"backgroundcolor\":\"#E5ECF6\",\"gridcolor\":\"white\",\"gridwidth\":2,\"linecolor\":\"white\",\"showbackground\":true,\"ticks\":\"\",\"zerolinecolor\":\"white\"},\"zaxis\":{\"backgroundcolor\":\"#E5ECF6\",\"gridcolor\":\"white\",\"gridwidth\":2,\"linecolor\":\"white\",\"showbackground\":true,\"ticks\":\"\",\"zerolinecolor\":\"white\"}},\"shapedefaults\":{\"line\":{\"color\":\"#2a3f5f\"}},\"ternary\":{\"aaxis\":{\"gridcolor\":\"white\",\"linecolor\":\"white\",\"ticks\":\"\"},\"baxis\":{\"gridcolor\":\"white\",\"linecolor\":\"white\",\"ticks\":\"\"},\"bgcolor\":\"#E5ECF6\",\"caxis\":{\"gridcolor\":\"white\",\"linecolor\":\"white\",\"ticks\":\"\"}},\"title\":{\"x\":0.05},\"xaxis\":{\"automargin\":true,\"gridcolor\":\"white\",\"linecolor\":\"white\",\"ticks\":\"\",\"title\":{\"standoff\":15},\"zerolinecolor\":\"white\",\"zerolinewidth\":2},\"yaxis\":{\"automargin\":true,\"gridcolor\":\"white\",\"linecolor\":\"white\",\"ticks\":\"\",\"title\":{\"standoff\":15},\"zerolinecolor\":\"white\",\"zerolinewidth\":2}}},\"title\":{\"text\":\"Dopasowana prosta i zyski w ka\\u017cdym roku\"},\"xaxis\":{\"title\":{\"text\":\"Rok\"}},\"yaxis\":{\"title\":{\"text\":\"Zyski\"}}},                        {\"responsive\": true}                    ).then(function(){\n",
              "                            \n",
              "var gd = document.getElementById('415b69e4-adba-4e3c-b405-8e4489927895');\n",
              "var x = new MutationObserver(function (mutations, observer) {{\n",
              "        var display = window.getComputedStyle(gd).display;\n",
              "        if (!display || display === 'none') {{\n",
              "            console.log([gd, 'removed!']);\n",
              "            Plotly.purge(gd);\n",
              "            observer.disconnect();\n",
              "        }}\n",
              "}});\n",
              "\n",
              "// Listen for the removal of the full notebook cells\n",
              "var notebookContainer = gd.closest('#notebook-container');\n",
              "if (notebookContainer) {{\n",
              "    x.observe(notebookContainer, {childList: true});\n",
              "}}\n",
              "\n",
              "// Listen for the clearing of the current output cell\n",
              "var outputEl = gd.closest('.output');\n",
              "if (outputEl) {{\n",
              "    x.observe(outputEl, {childList: true});\n",
              "}}\n",
              "\n",
              "                        })                };                            </script>        </div>\n",
              "</body>\n",
              "</html>"
            ]
          },
          "metadata": {}
        }
      ]
    },
    {
      "cell_type": "markdown",
      "source": [
        "Po wizualizacji oraz na podstawie bardzo dużych wartości p-value dla wspolczynników widać, ze w danych nie jest obserwowany żaden trend liniowy."
      ],
      "metadata": {
        "id": "OKIluXYFGFVF"
      }
    },
    {
      "cell_type": "markdown",
      "source": [
        "# Zadanie 3"
      ],
      "metadata": {
        "id": "aTboh1gPGV1m"
      }
    },
    {
      "cell_type": "markdown",
      "source": [
        "![image.png](data:image/png;base64,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)"
      ],
      "metadata": {
        "id": "5IyB3f371iN5"
      }
    },
    {
      "cell_type": "code",
      "source": [
        "df = pd.read_csv('/content/drive/MyDrive/PAD/cwiczenie 7?/spendingscores.csv')"
      ],
      "metadata": {
        "id": "jhTvQywuBy9e"
      },
      "execution_count": null,
      "outputs": []
    },
    {
      "cell_type": "code",
      "source": [
        "df.head()"
      ],
      "metadata": {
        "colab": {
          "base_uri": "https://localhost:8080/",
          "height": 206
        },
        "id": "TKtVrYyGF7Bl",
        "outputId": "1101c3a8-fc98-4b22-edc1-955095ad02ad"
      },
      "execution_count": null,
      "outputs": [
        {
          "output_type": "execute_result",
          "data": {
            "text/plain": [
              "   Gender  Age  AnnualIncome  SpendingScore\n",
              "0    Male   19            15             39\n",
              "1    Male   21            15             81\n",
              "2  Female   20            16              6\n",
              "3  Female   23            16             77\n",
              "4  Female   31            17             40"
            ],
            "text/html": [
              "\n",
              "  <div id=\"df-cf5a6020-c102-4e91-94ca-7168424a72fb\">\n",
              "    <div class=\"colab-df-container\">\n",
              "      <div>\n",
              "<style scoped>\n",
              "    .dataframe tbody tr th:only-of-type {\n",
              "        vertical-align: middle;\n",
              "    }\n",
              "\n",
              "    .dataframe tbody tr th {\n",
              "        vertical-align: top;\n",
              "    }\n",
              "\n",
              "    .dataframe thead th {\n",
              "        text-align: right;\n",
              "    }\n",
              "</style>\n",
              "<table border=\"1\" class=\"dataframe\">\n",
              "  <thead>\n",
              "    <tr style=\"text-align: right;\">\n",
              "      <th></th>\n",
              "      <th>Gender</th>\n",
              "      <th>Age</th>\n",
              "      <th>AnnualIncome</th>\n",
              "      <th>SpendingScore</th>\n",
              "    </tr>\n",
              "  </thead>\n",
              "  <tbody>\n",
              "    <tr>\n",
              "      <th>0</th>\n",
              "      <td>Male</td>\n",
              "      <td>19</td>\n",
              "      <td>15</td>\n",
              "      <td>39</td>\n",
              "    </tr>\n",
              "    <tr>\n",
              "      <th>1</th>\n",
              "      <td>Male</td>\n",
              "      <td>21</td>\n",
              "      <td>15</td>\n",
              "      <td>81</td>\n",
              "    </tr>\n",
              "    <tr>\n",
              "      <th>2</th>\n",
              "      <td>Female</td>\n",
              "      <td>20</td>\n",
              "      <td>16</td>\n",
              "      <td>6</td>\n",
              "    </tr>\n",
              "    <tr>\n",
              "      <th>3</th>\n",
              "      <td>Female</td>\n",
              "      <td>23</td>\n",
              "      <td>16</td>\n",
              "      <td>77</td>\n",
              "    </tr>\n",
              "    <tr>\n",
              "      <th>4</th>\n",
              "      <td>Female</td>\n",
              "      <td>31</td>\n",
              "      <td>17</td>\n",
              "      <td>40</td>\n",
              "    </tr>\n",
              "  </tbody>\n",
              "</table>\n",
              "</div>\n",
              "      <button class=\"colab-df-convert\" onclick=\"convertToInteractive('df-cf5a6020-c102-4e91-94ca-7168424a72fb')\"\n",
              "              title=\"Convert this dataframe to an interactive table.\"\n",
              "              style=\"display:none;\">\n",
              "        \n",
              "  <svg xmlns=\"http://www.w3.org/2000/svg\" height=\"24px\"viewBox=\"0 0 24 24\"\n",
              "       width=\"24px\">\n",
              "    <path d=\"M0 0h24v24H0V0z\" fill=\"none\"/>\n",
              "    <path d=\"M18.56 5.44l.94 2.06.94-2.06 2.06-.94-2.06-.94-.94-2.06-.94 2.06-2.06.94zm-11 1L8.5 8.5l.94-2.06 2.06-.94-2.06-.94L8.5 2.5l-.94 2.06-2.06.94zm10 10l.94 2.06.94-2.06 2.06-.94-2.06-.94-.94-2.06-.94 2.06-2.06.94z\"/><path d=\"M17.41 7.96l-1.37-1.37c-.4-.4-.92-.59-1.43-.59-.52 0-1.04.2-1.43.59L10.3 9.45l-7.72 7.72c-.78.78-.78 2.05 0 2.83L4 21.41c.39.39.9.59 1.41.59.51 0 1.02-.2 1.41-.59l7.78-7.78 2.81-2.81c.8-.78.8-2.07 0-2.86zM5.41 20L4 18.59l7.72-7.72 1.47 1.35L5.41 20z\"/>\n",
              "  </svg>\n",
              "      </button>\n",
              "      \n",
              "  <style>\n",
              "    .colab-df-container {\n",
              "      display:flex;\n",
              "      flex-wrap:wrap;\n",
              "      gap: 12px;\n",
              "    }\n",
              "\n",
              "    .colab-df-convert {\n",
              "      background-color: #E8F0FE;\n",
              "      border: none;\n",
              "      border-radius: 50%;\n",
              "      cursor: pointer;\n",
              "      display: none;\n",
              "      fill: #1967D2;\n",
              "      height: 32px;\n",
              "      padding: 0 0 0 0;\n",
              "      width: 32px;\n",
              "    }\n",
              "\n",
              "    .colab-df-convert:hover {\n",
              "      background-color: #E2EBFA;\n",
              "      box-shadow: 0px 1px 2px rgba(60, 64, 67, 0.3), 0px 1px 3px 1px rgba(60, 64, 67, 0.15);\n",
              "      fill: #174EA6;\n",
              "    }\n",
              "\n",
              "    [theme=dark] .colab-df-convert {\n",
              "      background-color: #3B4455;\n",
              "      fill: #D2E3FC;\n",
              "    }\n",
              "\n",
              "    [theme=dark] .colab-df-convert:hover {\n",
              "      background-color: #434B5C;\n",
              "      box-shadow: 0px 1px 3px 1px rgba(0, 0, 0, 0.15);\n",
              "      filter: drop-shadow(0px 1px 2px rgba(0, 0, 0, 0.3));\n",
              "      fill: #FFFFFF;\n",
              "    }\n",
              "  </style>\n",
              "\n",
              "      <script>\n",
              "        const buttonEl =\n",
              "          document.querySelector('#df-cf5a6020-c102-4e91-94ca-7168424a72fb button.colab-df-convert');\n",
              "        buttonEl.style.display =\n",
              "          google.colab.kernel.accessAllowed ? 'block' : 'none';\n",
              "\n",
              "        async function convertToInteractive(key) {\n",
              "          const element = document.querySelector('#df-cf5a6020-c102-4e91-94ca-7168424a72fb');\n",
              "          const dataTable =\n",
              "            await google.colab.kernel.invokeFunction('convertToInteractive',\n",
              "                                                     [key], {});\n",
              "          if (!dataTable) return;\n",
              "\n",
              "          const docLinkHtml = 'Like what you see? Visit the ' +\n",
              "            '<a target=\"_blank\" href=https://colab.research.google.com/notebooks/data_table.ipynb>data table notebook</a>'\n",
              "            + ' to learn more about interactive tables.';\n",
              "          element.innerHTML = '';\n",
              "          dataTable['output_type'] = 'display_data';\n",
              "          await google.colab.output.renderOutput(dataTable, element);\n",
              "          const docLink = document.createElement('div');\n",
              "          docLink.innerHTML = docLinkHtml;\n",
              "          element.appendChild(docLink);\n",
              "        }\n",
              "      </script>\n",
              "    </div>\n",
              "  </div>\n",
              "  "
            ]
          },
          "metadata": {},
          "execution_count": 87
        }
      ]
    },
    {
      "cell_type": "code",
      "source": [
        "values_update = {'Gender':{'Male':1, 'Female':0}}"
      ],
      "metadata": {
        "id": "xQ8-ZZK4Dv97"
      },
      "execution_count": null,
      "outputs": []
    },
    {
      "cell_type": "code",
      "source": [
        "df = df.replace(values_update)"
      ],
      "metadata": {
        "id": "nNyy0-OtHB1w"
      },
      "execution_count": null,
      "outputs": []
    },
    {
      "cell_type": "code",
      "source": [
        "df.head()"
      ],
      "metadata": {
        "colab": {
          "base_uri": "https://localhost:8080/",
          "height": 206
        },
        "id": "eIXrbIKHHarm",
        "outputId": "c505b481-4881-4e73-8487-5351a3cf7523"
      },
      "execution_count": null,
      "outputs": [
        {
          "output_type": "execute_result",
          "data": {
            "text/plain": [
              "   Gender  Age  AnnualIncome  SpendingScore\n",
              "0       1   19            15             39\n",
              "1       1   21            15             81\n",
              "2       0   20            16              6\n",
              "3       0   23            16             77\n",
              "4       0   31            17             40"
            ],
            "text/html": [
              "\n",
              "  <div id=\"df-2c6291a3-e76a-455e-abb0-096f13c671eb\">\n",
              "    <div class=\"colab-df-container\">\n",
              "      <div>\n",
              "<style scoped>\n",
              "    .dataframe tbody tr th:only-of-type {\n",
              "        vertical-align: middle;\n",
              "    }\n",
              "\n",
              "    .dataframe tbody tr th {\n",
              "        vertical-align: top;\n",
              "    }\n",
              "\n",
              "    .dataframe thead th {\n",
              "        text-align: right;\n",
              "    }\n",
              "</style>\n",
              "<table border=\"1\" class=\"dataframe\">\n",
              "  <thead>\n",
              "    <tr style=\"text-align: right;\">\n",
              "      <th></th>\n",
              "      <th>Gender</th>\n",
              "      <th>Age</th>\n",
              "      <th>AnnualIncome</th>\n",
              "      <th>SpendingScore</th>\n",
              "    </tr>\n",
              "  </thead>\n",
              "  <tbody>\n",
              "    <tr>\n",
              "      <th>0</th>\n",
              "      <td>1</td>\n",
              "      <td>19</td>\n",
              "      <td>15</td>\n",
              "      <td>39</td>\n",
              "    </tr>\n",
              "    <tr>\n",
              "      <th>1</th>\n",
              "      <td>1</td>\n",
              "      <td>21</td>\n",
              "      <td>15</td>\n",
              "      <td>81</td>\n",
              "    </tr>\n",
              "    <tr>\n",
              "      <th>2</th>\n",
              "      <td>0</td>\n",
              "      <td>20</td>\n",
              "      <td>16</td>\n",
              "      <td>6</td>\n",
              "    </tr>\n",
              "    <tr>\n",
              "      <th>3</th>\n",
              "      <td>0</td>\n",
              "      <td>23</td>\n",
              "      <td>16</td>\n",
              "      <td>77</td>\n",
              "    </tr>\n",
              "    <tr>\n",
              "      <th>4</th>\n",
              "      <td>0</td>\n",
              "      <td>31</td>\n",
              "      <td>17</td>\n",
              "      <td>40</td>\n",
              "    </tr>\n",
              "  </tbody>\n",
              "</table>\n",
              "</div>\n",
              "      <button class=\"colab-df-convert\" onclick=\"convertToInteractive('df-2c6291a3-e76a-455e-abb0-096f13c671eb')\"\n",
              "              title=\"Convert this dataframe to an interactive table.\"\n",
              "              style=\"display:none;\">\n",
              "        \n",
              "  <svg xmlns=\"http://www.w3.org/2000/svg\" height=\"24px\"viewBox=\"0 0 24 24\"\n",
              "       width=\"24px\">\n",
              "    <path d=\"M0 0h24v24H0V0z\" fill=\"none\"/>\n",
              "    <path d=\"M18.56 5.44l.94 2.06.94-2.06 2.06-.94-2.06-.94-.94-2.06-.94 2.06-2.06.94zm-11 1L8.5 8.5l.94-2.06 2.06-.94-2.06-.94L8.5 2.5l-.94 2.06-2.06.94zm10 10l.94 2.06.94-2.06 2.06-.94-2.06-.94-.94-2.06-.94 2.06-2.06.94z\"/><path d=\"M17.41 7.96l-1.37-1.37c-.4-.4-.92-.59-1.43-.59-.52 0-1.04.2-1.43.59L10.3 9.45l-7.72 7.72c-.78.78-.78 2.05 0 2.83L4 21.41c.39.39.9.59 1.41.59.51 0 1.02-.2 1.41-.59l7.78-7.78 2.81-2.81c.8-.78.8-2.07 0-2.86zM5.41 20L4 18.59l7.72-7.72 1.47 1.35L5.41 20z\"/>\n",
              "  </svg>\n",
              "      </button>\n",
              "      \n",
              "  <style>\n",
              "    .colab-df-container {\n",
              "      display:flex;\n",
              "      flex-wrap:wrap;\n",
              "      gap: 12px;\n",
              "    }\n",
              "\n",
              "    .colab-df-convert {\n",
              "      background-color: #E8F0FE;\n",
              "      border: none;\n",
              "      border-radius: 50%;\n",
              "      cursor: pointer;\n",
              "      display: none;\n",
              "      fill: #1967D2;\n",
              "      height: 32px;\n",
              "      padding: 0 0 0 0;\n",
              "      width: 32px;\n",
              "    }\n",
              "\n",
              "    .colab-df-convert:hover {\n",
              "      background-color: #E2EBFA;\n",
              "      box-shadow: 0px 1px 2px rgba(60, 64, 67, 0.3), 0px 1px 3px 1px rgba(60, 64, 67, 0.15);\n",
              "      fill: #174EA6;\n",
              "    }\n",
              "\n",
              "    [theme=dark] .colab-df-convert {\n",
              "      background-color: #3B4455;\n",
              "      fill: #D2E3FC;\n",
              "    }\n",
              "\n",
              "    [theme=dark] .colab-df-convert:hover {\n",
              "      background-color: #434B5C;\n",
              "      box-shadow: 0px 1px 3px 1px rgba(0, 0, 0, 0.15);\n",
              "      filter: drop-shadow(0px 1px 2px rgba(0, 0, 0, 0.3));\n",
              "      fill: #FFFFFF;\n",
              "    }\n",
              "  </style>\n",
              "\n",
              "      <script>\n",
              "        const buttonEl =\n",
              "          document.querySelector('#df-2c6291a3-e76a-455e-abb0-096f13c671eb button.colab-df-convert');\n",
              "        buttonEl.style.display =\n",
              "          google.colab.kernel.accessAllowed ? 'block' : 'none';\n",
              "\n",
              "        async function convertToInteractive(key) {\n",
              "          const element = document.querySelector('#df-2c6291a3-e76a-455e-abb0-096f13c671eb');\n",
              "          const dataTable =\n",
              "            await google.colab.kernel.invokeFunction('convertToInteractive',\n",
              "                                                     [key], {});\n",
              "          if (!dataTable) return;\n",
              "\n",
              "          const docLinkHtml = 'Like what you see? Visit the ' +\n",
              "            '<a target=\"_blank\" href=https://colab.research.google.com/notebooks/data_table.ipynb>data table notebook</a>'\n",
              "            + ' to learn more about interactive tables.';\n",
              "          element.innerHTML = '';\n",
              "          dataTable['output_type'] = 'display_data';\n",
              "          await google.colab.output.renderOutput(dataTable, element);\n",
              "          const docLink = document.createElement('div');\n",
              "          docLink.innerHTML = docLinkHtml;\n",
              "          element.appendChild(docLink);\n",
              "        }\n",
              "      </script>\n",
              "    </div>\n",
              "  </div>\n",
              "  "
            ]
          },
          "metadata": {},
          "execution_count": 90
        }
      ]
    },
    {
      "cell_type": "code",
      "source": [
        "import statsmodels.formula.api as smf\n",
        "model = smf.ols(formula='SpendingScore ~ Gender + Age + AnnualIncome', data=df).fit()\n",
        "print(model.summary())"
      ],
      "metadata": {
        "colab": {
          "base_uri": "https://localhost:8080/"
        },
        "id": "mYVryr_5ItVd",
        "outputId": "9f7d0045-5c8b-42c1-fbf4-31e39cd32ea0"
      },
      "execution_count": null,
      "outputs": [
        {
          "output_type": "stream",
          "name": "stdout",
          "text": [
            "                            OLS Regression Results                            \n",
            "==============================================================================\n",
            "Dep. Variable:          SpendingScore   R-squared:                       0.109\n",
            "Model:                            OLS   Adj. R-squared:                  0.095\n",
            "Method:                 Least Squares   F-statistic:                     7.960\n",
            "Date:                Sun, 22 Jan 2023   Prob (F-statistic):           4.91e-05\n",
            "Time:                        15:53:41   Log-Likelihood:                -922.05\n",
            "No. Observations:                 200   AIC:                             1852.\n",
            "Df Residuals:                     196   BIC:                             1865.\n",
            "Df Model:                           3                                         \n",
            "Covariance Type:            nonrobust                                         \n",
            "================================================================================\n",
            "                   coef    std err          t      P>|t|      [0.025      0.975]\n",
            "--------------------------------------------------------------------------------\n",
            "Intercept       73.9300      6.642     11.130      0.000      60.831      87.029\n",
            "Gender          -2.0132      3.512     -0.573      0.567      -8.939       4.913\n",
            "Age             -0.6004      0.125     -4.806      0.000      -0.847      -0.354\n",
            "AnnualIncome     0.0079      0.066      0.119      0.905      -0.123       0.139\n",
            "==============================================================================\n",
            "Omnibus:                       11.059   Durbin-Watson:                   3.448\n",
            "Prob(Omnibus):                  0.004   Jarque-Bera (JB):                6.033\n",
            "Skew:                          -0.233   Prob(JB):                       0.0490\n",
            "Kurtosis:                       2.288   Cond. No.                         291.\n",
            "==============================================================================\n",
            "\n",
            "Notes:\n",
            "[1] Standard Errors assume that the covariance matrix of the errors is correctly specified.\n"
          ]
        }
      ]
    },
    {
      "cell_type": "code",
      "source": [
        "print(\"Model P Values:\", model.pvalues.values)\n",
        "print(\"Model Std Errs:\", model.bse.values)\n",
        "print(\"Model Coef:\", model.params.values)\n"
      ],
      "metadata": {
        "colab": {
          "base_uri": "https://localhost:8080/"
        },
        "id": "9Pv9_EXFJoKl",
        "outputId": "c17ba28c-dae6-41f6-b6da-3ce006f3a538"
      },
      "execution_count": null,
      "outputs": [
        {
          "output_type": "stream",
          "name": "stdout",
          "text": [
            "Model P Values: [1.28775203e-22 5.67117187e-01 3.05517724e-06 9.05093933e-01]\n",
            "Model Std Errs: [6.64225287 3.51182541 0.12491583 0.06641961]\n",
            "Model Coef: [ 7.39300336e+01 -2.01323375e+00 -6.00371040e-01  7.92939510e-03]\n"
          ]
        }
      ]
    },
    {
      "cell_type": "code",
      "source": [
        "corr = df.corr()\n",
        "print(corr)\n",
        "plot = sb.heatmap(df.corr(), cmap='YlGnBu', annot=True)\n"
      ],
      "metadata": {
        "colab": {
          "base_uri": "https://localhost:8080/",
          "height": 421
        },
        "id": "E8XgUempJ3I1",
        "outputId": "ffa2913c-db3f-43be-b376-97dfccb02f4e"
      },
      "execution_count": null,
      "outputs": [
        {
          "output_type": "stream",
          "name": "stdout",
          "text": [
            "                 Gender       Age  AnnualIncome  SpendingScore\n",
            "Gender         1.000000  0.060867      0.056410      -0.058109\n",
            "Age            0.060867  1.000000     -0.012398      -0.327227\n",
            "AnnualIncome   0.056410 -0.012398      1.000000       0.009903\n",
            "SpendingScore -0.058109 -0.327227      0.009903       1.000000\n"
          ]
        },
        {
          "output_type": "display_data",
          "data": {
            "text/plain": [
              "<Figure size 432x288 with 2 Axes>"
            ],
            "image/png": "[encoded data removed]"
          },
          "metadata": {
            "needs_background": "light"
          }
        }
      ]
    },
    {
      "cell_type": "markdown",
      "source": [
        "Usuwam zmienną AnnualIncome, ponieważ jego p-value jest największe, jak i ma najniższy współczynnik Coef"
      ],
      "metadata": {
        "id": "BOjYczhLNRRl"
      }
    },
    {
      "cell_type": "code",
      "source": [
        "model1 = smf.ols(formula='SpendingScore ~ Gender + Age', data=df).fit()\n",
        "print(model1.summary())"
      ],
      "metadata": {
        "colab": {
          "base_uri": "https://localhost:8080/"
        },
        "id": "eldCV6qgJ6L_",
        "outputId": "cfc7e1b1-c63f-4153-b008-35c7dd73f087"
      },
      "execution_count": null,
      "outputs": [
        {
          "output_type": "stream",
          "name": "stdout",
          "text": [
            "                            OLS Regression Results                            \n",
            "==============================================================================\n",
            "Dep. Variable:          SpendingScore   R-squared:                       0.109\n",
            "Model:                            OLS   Adj. R-squared:                  0.099\n",
            "Method:                 Least Squares   F-statistic:                     11.99\n",
            "Date:                Sun, 22 Jan 2023   Prob (F-statistic):           1.22e-05\n",
            "Time:                        15:56:28   Log-Likelihood:                -922.05\n",
            "No. Observations:                 200   AIC:                             1850.\n",
            "Df Residuals:                     197   BIC:                             1860.\n",
            "Df Model:                           2                                         \n",
            "Covariance Type:            nonrobust                                         \n",
            "==============================================================================\n",
            "                 coef    std err          t      P>|t|      [0.025      0.975]\n",
            "------------------------------------------------------------------------------\n",
            "Intercept     74.4089      5.281     14.089      0.000      63.994      84.824\n",
            "Gender        -1.9892      3.497     -0.569      0.570      -8.886       4.908\n",
            "Age           -0.6006      0.125     -4.821      0.000      -0.846      -0.355\n",
            "==============================================================================\n",
            "Omnibus:                       10.935   Durbin-Watson:                   3.447\n",
            "Prob(Omnibus):                  0.004   Jarque-Bera (JB):                5.938\n",
            "Skew:                          -0.227   Prob(JB):                       0.0514\n",
            "Kurtosis:                       2.289   Cond. No.                         128.\n",
            "==============================================================================\n",
            "\n",
            "Notes:\n",
            "[1] Standard Errors assume that the covariance matrix of the errors is correctly specified.\n"
          ]
        }
      ]
    },
    {
      "cell_type": "code",
      "source": [
        "print(\"Model P Values:\", model1.pvalues.values)\n",
        "print(\"Model Std Errs:\", model1.bse.values)\n",
        "print(\"Model Coef:\", model1.params.values)"
      ],
      "metadata": {
        "colab": {
          "base_uri": "https://localhost:8080/"
        },
        "id": "MUjhAViaMlSt",
        "outputId": "d60b4c36-4d19-47a7-8385-60877fc81e71"
      },
      "execution_count": null,
      "outputs": [
        {
          "output_type": "stream",
          "name": "stdout",
          "text": [
            "Model P Values: [1.22119569e-31 5.70145667e-01 2.85282740e-06]\n",
            "Model Std Errs: [5.28123206 3.49727772 0.12458719]\n",
            "Model Coef: [74.40887608 -1.989221   -0.60060795]\n"
          ]
        }
      ]
    }
  ]
}